{
  "nbformat": 4,
  "nbformat_minor": 0,
  "metadata": {
    "colab": {
      "name": "scikit-learn_cheatsheet.ipynb",
      "provenance": [],
      "collapsed_sections": []
    },
    "kernelspec": {
      "name": "python3",
      "display_name": "Python 3"
    },
    "language_info": {
      "name": "python"
    }
  },
  "cells": [
    {
      "cell_type": "markdown",
      "metadata": {
        "id": "nLXsn9eUEGuJ"
      },
      "source": [
        "## What will be covered\n",
        "\n",
        "0. End to end scikit-learn workflow\n",
        "1. Getting data ready\n",
        "2. Choose the right estimator/algorithm for our problems\n",
        "3. Fit the model/algorithm to training data and use it to make predictions on our data\n",
        "4. Evaluate a model on training data and test data\n",
        "5. Improve a model\n",
        "6. Save and load a trained model\n",
        "7. Putting these all together"
      ]
    },
    {
      "cell_type": "markdown",
      "metadata": {
        "id": "Yl9hsQYqyRzM"
      },
      "source": [
        "---"
      ]
    },
    {
      "cell_type": "code",
      "metadata": {
        "id": "7EunHwTMsmEH"
      },
      "source": [
        "import numpy as np\n",
        "import pandas as pd\n",
        "import matplotlib.pyplot as plt"
      ],
      "execution_count": 1,
      "outputs": []
    },
    {
      "cell_type": "markdown",
      "metadata": {
        "id": "GIZrZq4cgwXD"
      },
      "source": [
        "## 0. End to end scikit-learn Workflow\n",
        "\n"
      ]
    },
    {
      "cell_type": "markdown",
      "metadata": {
        "id": "Xem7Er_7ZusO"
      },
      "source": [
        "#### 0.1 Getting data ready"
      ]
    },
    {
      "cell_type": "code",
      "metadata": {
        "colab": {
          "base_uri": "https://localhost:8080/",
          "height": 204
        },
        "id": "pTOZony4E9aK",
        "outputId": "e2b67545-7bdd-4af1-82e6-67e1218e1b5b"
      },
      "source": [
        "# Getting data ready\n",
        "import pandas as pd\n",
        "heart_disease = pd.read_csv(\"https://raw.githubusercontent.com/mrdbourke/zero-to-mastery-ml/master/data/heart-disease.csv\")\n",
        "heart_disease.head()"
      ],
      "execution_count": 2,
      "outputs": [
        {
          "output_type": "execute_result",
          "data": {
            "text/html": [
              "<div>\n",
              "<style scoped>\n",
              "    .dataframe tbody tr th:only-of-type {\n",
              "        vertical-align: middle;\n",
              "    }\n",
              "\n",
              "    .dataframe tbody tr th {\n",
              "        vertical-align: top;\n",
              "    }\n",
              "\n",
              "    .dataframe thead th {\n",
              "        text-align: right;\n",
              "    }\n",
              "</style>\n",
              "<table border=\"1\" class=\"dataframe\">\n",
              "  <thead>\n",
              "    <tr style=\"text-align: right;\">\n",
              "      <th></th>\n",
              "      <th>age</th>\n",
              "      <th>sex</th>\n",
              "      <th>cp</th>\n",
              "      <th>trestbps</th>\n",
              "      <th>chol</th>\n",
              "      <th>fbs</th>\n",
              "      <th>restecg</th>\n",
              "      <th>thalach</th>\n",
              "      <th>exang</th>\n",
              "      <th>oldpeak</th>\n",
              "      <th>slope</th>\n",
              "      <th>ca</th>\n",
              "      <th>thal</th>\n",
              "      <th>target</th>\n",
              "    </tr>\n",
              "  </thead>\n",
              "  <tbody>\n",
              "    <tr>\n",
              "      <th>0</th>\n",
              "      <td>63</td>\n",
              "      <td>1</td>\n",
              "      <td>3</td>\n",
              "      <td>145</td>\n",
              "      <td>233</td>\n",
              "      <td>1</td>\n",
              "      <td>0</td>\n",
              "      <td>150</td>\n",
              "      <td>0</td>\n",
              "      <td>2.3</td>\n",
              "      <td>0</td>\n",
              "      <td>0</td>\n",
              "      <td>1</td>\n",
              "      <td>1</td>\n",
              "    </tr>\n",
              "    <tr>\n",
              "      <th>1</th>\n",
              "      <td>37</td>\n",
              "      <td>1</td>\n",
              "      <td>2</td>\n",
              "      <td>130</td>\n",
              "      <td>250</td>\n",
              "      <td>0</td>\n",
              "      <td>1</td>\n",
              "      <td>187</td>\n",
              "      <td>0</td>\n",
              "      <td>3.5</td>\n",
              "      <td>0</td>\n",
              "      <td>0</td>\n",
              "      <td>2</td>\n",
              "      <td>1</td>\n",
              "    </tr>\n",
              "    <tr>\n",
              "      <th>2</th>\n",
              "      <td>41</td>\n",
              "      <td>0</td>\n",
              "      <td>1</td>\n",
              "      <td>130</td>\n",
              "      <td>204</td>\n",
              "      <td>0</td>\n",
              "      <td>0</td>\n",
              "      <td>172</td>\n",
              "      <td>0</td>\n",
              "      <td>1.4</td>\n",
              "      <td>2</td>\n",
              "      <td>0</td>\n",
              "      <td>2</td>\n",
              "      <td>1</td>\n",
              "    </tr>\n",
              "    <tr>\n",
              "      <th>3</th>\n",
              "      <td>56</td>\n",
              "      <td>1</td>\n",
              "      <td>1</td>\n",
              "      <td>120</td>\n",
              "      <td>236</td>\n",
              "      <td>0</td>\n",
              "      <td>1</td>\n",
              "      <td>178</td>\n",
              "      <td>0</td>\n",
              "      <td>0.8</td>\n",
              "      <td>2</td>\n",
              "      <td>0</td>\n",
              "      <td>2</td>\n",
              "      <td>1</td>\n",
              "    </tr>\n",
              "    <tr>\n",
              "      <th>4</th>\n",
              "      <td>57</td>\n",
              "      <td>0</td>\n",
              "      <td>0</td>\n",
              "      <td>120</td>\n",
              "      <td>354</td>\n",
              "      <td>0</td>\n",
              "      <td>1</td>\n",
              "      <td>163</td>\n",
              "      <td>1</td>\n",
              "      <td>0.6</td>\n",
              "      <td>2</td>\n",
              "      <td>0</td>\n",
              "      <td>2</td>\n",
              "      <td>1</td>\n",
              "    </tr>\n",
              "  </tbody>\n",
              "</table>\n",
              "</div>"
            ],
            "text/plain": [
              "   age  sex  cp  trestbps  chol  fbs  ...  exang  oldpeak  slope  ca  thal  target\n",
              "0   63    1   3       145   233    1  ...      0      2.3      0   0     1       1\n",
              "1   37    1   2       130   250    0  ...      0      3.5      0   0     2       1\n",
              "2   41    0   1       130   204    0  ...      0      1.4      2   0     2       1\n",
              "3   56    1   1       120   236    0  ...      0      0.8      2   0     2       1\n",
              "4   57    0   0       120   354    0  ...      1      0.6      2   0     2       1\n",
              "\n",
              "[5 rows x 14 columns]"
            ]
          },
          "metadata": {
            "tags": []
          },
          "execution_count": 2
        }
      ]
    },
    {
      "cell_type": "code",
      "metadata": {
        "id": "2VtRiQscgkPN"
      },
      "source": [
        "# Create x (features matrix)\n",
        "X = heart_disease.drop(\"target\", axis=1)\n",
        "\n",
        "# Create y (labels)\n",
        "y = heart_disease[\"target\"]"
      ],
      "execution_count": 3,
      "outputs": []
    },
    {
      "cell_type": "markdown",
      "metadata": {
        "id": "zVs6r_IYu5vc"
      },
      "source": [
        "#### 0.2 Choose the right model and hyperparameters"
      ]
    },
    {
      "cell_type": "code",
      "metadata": {
        "colab": {
          "base_uri": "https://localhost:8080/"
        },
        "id": "d-6PiJrwqRRe",
        "outputId": "44fe044f-4219-447e-9b5b-e75d1c69eee2"
      },
      "source": [
        "from sklearn.ensemble import RandomForestClassifier\n",
        "\n",
        "clf = RandomForestClassifier()\n",
        "\n",
        "# keep default hyperparameters\n",
        "clf.get_params()"
      ],
      "execution_count": 4,
      "outputs": [
        {
          "output_type": "execute_result",
          "data": {
            "text/plain": [
              "{'bootstrap': True,\n",
              " 'ccp_alpha': 0.0,\n",
              " 'class_weight': None,\n",
              " 'criterion': 'gini',\n",
              " 'max_depth': None,\n",
              " 'max_features': 'auto',\n",
              " 'max_leaf_nodes': None,\n",
              " 'max_samples': None,\n",
              " 'min_impurity_decrease': 0.0,\n",
              " 'min_impurity_split': None,\n",
              " 'min_samples_leaf': 1,\n",
              " 'min_samples_split': 2,\n",
              " 'min_weight_fraction_leaf': 0.0,\n",
              " 'n_estimators': 100,\n",
              " 'n_jobs': None,\n",
              " 'oob_score': False,\n",
              " 'random_state': None,\n",
              " 'verbose': 0,\n",
              " 'warm_start': False}"
            ]
          },
          "metadata": {
            "tags": []
          },
          "execution_count": 4
        }
      ]
    },
    {
      "cell_type": "markdown",
      "metadata": {
        "id": "_YgfcLz4u1Yw"
      },
      "source": [
        "#### 0.3 Fit the model to training data"
      ]
    },
    {
      "cell_type": "code",
      "metadata": {
        "id": "Saczwkezq0Vk"
      },
      "source": [
        "from sklearn.model_selection import train_test_split\n",
        "\n",
        "X_train, X_test, y_train, y_test = train_test_split(X, y, test_size=0.2) # 80% data will be used for training"
      ],
      "execution_count": 5,
      "outputs": []
    },
    {
      "cell_type": "code",
      "metadata": {
        "colab": {
          "base_uri": "https://localhost:8080/"
        },
        "id": "MJ5wnHcqsQLL",
        "outputId": "bdb445af-8b4e-41b1-d5c0-d498ecdee132"
      },
      "source": [
        "clf.fit(X_train, y_train)"
      ],
      "execution_count": 6,
      "outputs": [
        {
          "output_type": "execute_result",
          "data": {
            "text/plain": [
              "RandomForestClassifier(bootstrap=True, ccp_alpha=0.0, class_weight=None,\n",
              "                       criterion='gini', max_depth=None, max_features='auto',\n",
              "                       max_leaf_nodes=None, max_samples=None,\n",
              "                       min_impurity_decrease=0.0, min_impurity_split=None,\n",
              "                       min_samples_leaf=1, min_samples_split=2,\n",
              "                       min_weight_fraction_leaf=0.0, n_estimators=100,\n",
              "                       n_jobs=None, oob_score=False, random_state=None,\n",
              "                       verbose=0, warm_start=False)"
            ]
          },
          "metadata": {
            "tags": []
          },
          "execution_count": 6
        }
      ]
    },
    {
      "cell_type": "code",
      "metadata": {
        "colab": {
          "base_uri": "https://localhost:8080/"
        },
        "id": "88vJzFzlsUJZ",
        "outputId": "5b197b12-8372-44fc-a0b4-4d4da0900d4f"
      },
      "source": [
        "# Make prediction\n",
        "y_preds = clf.predict(X_test)\n",
        "y_preds"
      ],
      "execution_count": 7,
      "outputs": [
        {
          "output_type": "execute_result",
          "data": {
            "text/plain": [
              "array([0, 1, 1, 1, 0, 0, 1, 0, 1, 1, 0, 0, 0, 1, 1, 1, 1, 0, 1, 0, 1, 1,\n",
              "       0, 0, 1, 0, 0, 0, 0, 1, 1, 0, 1, 0, 1, 1, 0, 1, 0, 1, 1, 1, 1, 1,\n",
              "       0, 1, 0, 0, 0, 1, 0, 1, 0, 1, 1, 1, 0, 1, 1, 1, 0])"
            ]
          },
          "metadata": {
            "tags": []
          },
          "execution_count": 7
        }
      ]
    },
    {
      "cell_type": "markdown",
      "metadata": {
        "id": "sJdA8-IZuwu3"
      },
      "source": [
        "#### 0.4 Evaluate the model"
      ]
    },
    {
      "cell_type": "code",
      "metadata": {
        "colab": {
          "base_uri": "https://localhost:8080/"
        },
        "id": "or4eMAAGtBIR",
        "outputId": "dea75108-fd07-44f3-fd4f-e2cb1cb8ccfe"
      },
      "source": [
        "clf.score(X_train, y_train)"
      ],
      "execution_count": 8,
      "outputs": [
        {
          "output_type": "execute_result",
          "data": {
            "text/plain": [
              "1.0"
            ]
          },
          "metadata": {
            "tags": []
          },
          "execution_count": 8
        }
      ]
    },
    {
      "cell_type": "code",
      "metadata": {
        "colab": {
          "base_uri": "https://localhost:8080/"
        },
        "id": "iL_FplrEtZ1A",
        "outputId": "1499d92c-03a6-44f1-cdb4-f09c96aadf3b"
      },
      "source": [
        "clf.score(X_test, y_test)"
      ],
      "execution_count": 9,
      "outputs": [
        {
          "output_type": "execute_result",
          "data": {
            "text/plain": [
              "0.819672131147541"
            ]
          },
          "metadata": {
            "tags": []
          },
          "execution_count": 9
        }
      ]
    },
    {
      "cell_type": "code",
      "metadata": {
        "id": "pEEcnu9gtco9"
      },
      "source": [
        "from sklearn.metrics import classification_report, confusion_matrix, accuracy_score"
      ],
      "execution_count": 10,
      "outputs": []
    },
    {
      "cell_type": "code",
      "metadata": {
        "colab": {
          "base_uri": "https://localhost:8080/"
        },
        "id": "O0yHb3XRuKcN",
        "outputId": "d4b8075e-6a87-4400-88c6-51cfd5bfb656"
      },
      "source": [
        "print(classification_report(y_test, y_preds))"
      ],
      "execution_count": 11,
      "outputs": [
        {
          "output_type": "stream",
          "text": [
            "              precision    recall  f1-score   support\n",
            "\n",
            "           0       0.89      0.75      0.81        32\n",
            "           1       0.76      0.90      0.83        29\n",
            "\n",
            "    accuracy                           0.82        61\n",
            "   macro avg       0.83      0.82      0.82        61\n",
            "weighted avg       0.83      0.82      0.82        61\n",
            "\n"
          ],
          "name": "stdout"
        }
      ]
    },
    {
      "cell_type": "code",
      "metadata": {
        "colab": {
          "base_uri": "https://localhost:8080/"
        },
        "id": "bqGNWpCCuUIJ",
        "outputId": "6e14e415-7b0f-45bd-d295-1c9ff9f297f6"
      },
      "source": [
        "confusion_matrix(y_test, y_preds)"
      ],
      "execution_count": 12,
      "outputs": [
        {
          "output_type": "execute_result",
          "data": {
            "text/plain": [
              "array([[24,  8],\n",
              "       [ 3, 26]])"
            ]
          },
          "metadata": {
            "tags": []
          },
          "execution_count": 12
        }
      ]
    },
    {
      "cell_type": "code",
      "metadata": {
        "colab": {
          "base_uri": "https://localhost:8080/"
        },
        "id": "_itIROfqujXv",
        "outputId": "0f5b5c85-8e66-4abf-dbf6-57a5d175b315"
      },
      "source": [
        "accuracy_score(y_test, y_preds)"
      ],
      "execution_count": 13,
      "outputs": [
        {
          "output_type": "execute_result",
          "data": {
            "text/plain": [
              "0.819672131147541"
            ]
          },
          "metadata": {
            "tags": []
          },
          "execution_count": 13
        }
      ]
    },
    {
      "cell_type": "markdown",
      "metadata": {
        "id": "BxYi-B9vu9By"
      },
      "source": [
        "#### 0.5 Improve the model"
      ]
    },
    {
      "cell_type": "code",
      "metadata": {
        "colab": {
          "base_uri": "https://localhost:8080/"
        },
        "id": "YGlbwaPPunIZ",
        "outputId": "16b8dd52-b255-4f85-a537-6b2135e0e3c1"
      },
      "source": [
        "# Try different amount of n_estimators\n",
        "\n",
        "# setup random seed\n",
        "np.random.seed(42)\n",
        "\n",
        "for i in range(10, 100, 10):\n",
        "  print(f\"Trying model with {i} estimators...\")\n",
        "  clf = RandomForestClassifier(n_estimators=i).fit(X_train, y_train)\n",
        "  print(f\"Model accuracy on test set: {clf.score(X_test, y_test) * 100:.2f}%\")\n",
        "  print(\" \")"
      ],
      "execution_count": 14,
      "outputs": [
        {
          "output_type": "stream",
          "text": [
            "Trying model with 10 estimators...\n",
            "Model accuracy on test set: 80.33%\n",
            " \n",
            "Trying model with 20 estimators...\n",
            "Model accuracy on test set: 81.97%\n",
            " \n",
            "Trying model with 30 estimators...\n",
            "Model accuracy on test set: 78.69%\n",
            " \n",
            "Trying model with 40 estimators...\n",
            "Model accuracy on test set: 78.69%\n",
            " \n",
            "Trying model with 50 estimators...\n",
            "Model accuracy on test set: 78.69%\n",
            " \n",
            "Trying model with 60 estimators...\n",
            "Model accuracy on test set: 80.33%\n",
            " \n",
            "Trying model with 70 estimators...\n",
            "Model accuracy on test set: 78.69%\n",
            " \n",
            "Trying model with 80 estimators...\n",
            "Model accuracy on test set: 77.05%\n",
            " \n",
            "Trying model with 90 estimators...\n",
            "Model accuracy on test set: 78.69%\n",
            " \n"
          ],
          "name": "stdout"
        }
      ]
    },
    {
      "cell_type": "markdown",
      "metadata": {
        "id": "qoTqZEABxUgU"
      },
      "source": [
        "#### 0.6 Save a model and load"
      ]
    },
    {
      "cell_type": "code",
      "metadata": {
        "id": "P_3RVpd8w2b3"
      },
      "source": [
        "import pickle\n",
        "\n",
        "pickle.dump(clf, open(\"random_forest_model_1.pkl\", \"wb\"))"
      ],
      "execution_count": 15,
      "outputs": []
    },
    {
      "cell_type": "code",
      "metadata": {
        "colab": {
          "base_uri": "https://localhost:8080/"
        },
        "id": "NA48_2t2xjyN",
        "outputId": "d2a704c0-a3e8-45f4-c145-8582b112b3a8"
      },
      "source": [
        "loaded_model = pickle.load(open(\"random_forest_model_1.pkl\", \"rb\"))\n",
        "loaded_model.score(X_test, y_test)"
      ],
      "execution_count": 16,
      "outputs": [
        {
          "output_type": "execute_result",
          "data": {
            "text/plain": [
              "0.7868852459016393"
            ]
          },
          "metadata": {
            "tags": []
          },
          "execution_count": 16
        }
      ]
    },
    {
      "cell_type": "markdown",
      "metadata": {
        "id": "zqYtbPvhap9z"
      },
      "source": [
        "---"
      ]
    },
    {
      "cell_type": "markdown",
      "metadata": {
        "id": "poQybEoCayHw"
      },
      "source": [
        "## 1. Getting data ready to be used with machine learning"
      ]
    },
    {
      "cell_type": "markdown",
      "metadata": {
        "id": "Pp9bP4Hsa0YN"
      },
      "source": [
        "Three main things to do:\n",
        "\n",
        "1. Split data into features and labels (usually 'X' and 'y')\n",
        "2. Converting non-numerical values to numerical values (feature encoding / feature encoding)\n",
        "3. Filling (imputing) or disregarding missing values"
      ]
    },
    {
      "cell_type": "markdown",
      "metadata": {
        "id": "VJKPYjrDb8zz"
      },
      "source": [
        "#### 1.1.1 Split data into features and labels"
      ]
    },
    {
      "cell_type": "code",
      "metadata": {
        "colab": {
          "base_uri": "https://localhost:8080/",
          "height": 204
        },
        "id": "KUlVLJAiavPh",
        "outputId": "63b685fb-bb43-496a-a933-2901b533c661"
      },
      "source": [
        "heart_disease.head()"
      ],
      "execution_count": 17,
      "outputs": [
        {
          "output_type": "execute_result",
          "data": {
            "text/html": [
              "<div>\n",
              "<style scoped>\n",
              "    .dataframe tbody tr th:only-of-type {\n",
              "        vertical-align: middle;\n",
              "    }\n",
              "\n",
              "    .dataframe tbody tr th {\n",
              "        vertical-align: top;\n",
              "    }\n",
              "\n",
              "    .dataframe thead th {\n",
              "        text-align: right;\n",
              "    }\n",
              "</style>\n",
              "<table border=\"1\" class=\"dataframe\">\n",
              "  <thead>\n",
              "    <tr style=\"text-align: right;\">\n",
              "      <th></th>\n",
              "      <th>age</th>\n",
              "      <th>sex</th>\n",
              "      <th>cp</th>\n",
              "      <th>trestbps</th>\n",
              "      <th>chol</th>\n",
              "      <th>fbs</th>\n",
              "      <th>restecg</th>\n",
              "      <th>thalach</th>\n",
              "      <th>exang</th>\n",
              "      <th>oldpeak</th>\n",
              "      <th>slope</th>\n",
              "      <th>ca</th>\n",
              "      <th>thal</th>\n",
              "      <th>target</th>\n",
              "    </tr>\n",
              "  </thead>\n",
              "  <tbody>\n",
              "    <tr>\n",
              "      <th>0</th>\n",
              "      <td>63</td>\n",
              "      <td>1</td>\n",
              "      <td>3</td>\n",
              "      <td>145</td>\n",
              "      <td>233</td>\n",
              "      <td>1</td>\n",
              "      <td>0</td>\n",
              "      <td>150</td>\n",
              "      <td>0</td>\n",
              "      <td>2.3</td>\n",
              "      <td>0</td>\n",
              "      <td>0</td>\n",
              "      <td>1</td>\n",
              "      <td>1</td>\n",
              "    </tr>\n",
              "    <tr>\n",
              "      <th>1</th>\n",
              "      <td>37</td>\n",
              "      <td>1</td>\n",
              "      <td>2</td>\n",
              "      <td>130</td>\n",
              "      <td>250</td>\n",
              "      <td>0</td>\n",
              "      <td>1</td>\n",
              "      <td>187</td>\n",
              "      <td>0</td>\n",
              "      <td>3.5</td>\n",
              "      <td>0</td>\n",
              "      <td>0</td>\n",
              "      <td>2</td>\n",
              "      <td>1</td>\n",
              "    </tr>\n",
              "    <tr>\n",
              "      <th>2</th>\n",
              "      <td>41</td>\n",
              "      <td>0</td>\n",
              "      <td>1</td>\n",
              "      <td>130</td>\n",
              "      <td>204</td>\n",
              "      <td>0</td>\n",
              "      <td>0</td>\n",
              "      <td>172</td>\n",
              "      <td>0</td>\n",
              "      <td>1.4</td>\n",
              "      <td>2</td>\n",
              "      <td>0</td>\n",
              "      <td>2</td>\n",
              "      <td>1</td>\n",
              "    </tr>\n",
              "    <tr>\n",
              "      <th>3</th>\n",
              "      <td>56</td>\n",
              "      <td>1</td>\n",
              "      <td>1</td>\n",
              "      <td>120</td>\n",
              "      <td>236</td>\n",
              "      <td>0</td>\n",
              "      <td>1</td>\n",
              "      <td>178</td>\n",
              "      <td>0</td>\n",
              "      <td>0.8</td>\n",
              "      <td>2</td>\n",
              "      <td>0</td>\n",
              "      <td>2</td>\n",
              "      <td>1</td>\n",
              "    </tr>\n",
              "    <tr>\n",
              "      <th>4</th>\n",
              "      <td>57</td>\n",
              "      <td>0</td>\n",
              "      <td>0</td>\n",
              "      <td>120</td>\n",
              "      <td>354</td>\n",
              "      <td>0</td>\n",
              "      <td>1</td>\n",
              "      <td>163</td>\n",
              "      <td>1</td>\n",
              "      <td>0.6</td>\n",
              "      <td>2</td>\n",
              "      <td>0</td>\n",
              "      <td>2</td>\n",
              "      <td>1</td>\n",
              "    </tr>\n",
              "  </tbody>\n",
              "</table>\n",
              "</div>"
            ],
            "text/plain": [
              "   age  sex  cp  trestbps  chol  fbs  ...  exang  oldpeak  slope  ca  thal  target\n",
              "0   63    1   3       145   233    1  ...      0      2.3      0   0     1       1\n",
              "1   37    1   2       130   250    0  ...      0      3.5      0   0     2       1\n",
              "2   41    0   1       130   204    0  ...      0      1.4      2   0     2       1\n",
              "3   56    1   1       120   236    0  ...      0      0.8      2   0     2       1\n",
              "4   57    0   0       120   354    0  ...      1      0.6      2   0     2       1\n",
              "\n",
              "[5 rows x 14 columns]"
            ]
          },
          "metadata": {
            "tags": []
          },
          "execution_count": 17
        }
      ]
    },
    {
      "cell_type": "code",
      "metadata": {
        "id": "JUX7nc49cCaf"
      },
      "source": [
        "X = heart_disease.drop(\"target\", axis=1)\n",
        "y = heart_disease[\"target\"]"
      ],
      "execution_count": 18,
      "outputs": []
    },
    {
      "cell_type": "markdown",
      "metadata": {
        "id": "n0NmmBokccaw"
      },
      "source": [
        "#### 1.1.2 Split data into training and test dataset"
      ]
    },
    {
      "cell_type": "code",
      "metadata": {
        "id": "rjemtDxncOHT"
      },
      "source": [
        "from sklearn.model_selection import train_test_split\n",
        "\n",
        "X_train, X_test, y_train, y_test = train_test_split(X, y, test_size=0.2)"
      ],
      "execution_count": 19,
      "outputs": []
    },
    {
      "cell_type": "code",
      "metadata": {
        "colab": {
          "base_uri": "https://localhost:8080/"
        },
        "id": "qyeXPnQSdCl4",
        "outputId": "cf68aee3-14c5-4ca9-80c8-8d09be3334b3"
      },
      "source": [
        "X_train.shape, X_test.shape, y_train.shape, y_test.shape"
      ],
      "execution_count": 20,
      "outputs": [
        {
          "output_type": "execute_result",
          "data": {
            "text/plain": [
              "((242, 13), (61, 13), (242,), (61,))"
            ]
          },
          "metadata": {
            "tags": []
          },
          "execution_count": 20
        }
      ]
    },
    {
      "cell_type": "markdown",
      "metadata": {
        "id": "K_EDvKHEdkqv"
      },
      "source": [
        "#### 1.2 Make sure everything is numerical (Feature Encoding)"
      ]
    },
    {
      "cell_type": "code",
      "metadata": {
        "id": "XFEUJ_cTdUQW",
        "colab": {
          "base_uri": "https://localhost:8080/",
          "height": 204
        },
        "outputId": "d133f3d3-5bd0-41bb-8a26-a602c9852921"
      },
      "source": [
        "car_sales = pd.read_csv(\"https://raw.githubusercontent.com/mrdbourke/zero-to-mastery-ml/master/data/car-sales-extended.csv\")\n",
        "car_sales.head()"
      ],
      "execution_count": 21,
      "outputs": [
        {
          "output_type": "execute_result",
          "data": {
            "text/html": [
              "<div>\n",
              "<style scoped>\n",
              "    .dataframe tbody tr th:only-of-type {\n",
              "        vertical-align: middle;\n",
              "    }\n",
              "\n",
              "    .dataframe tbody tr th {\n",
              "        vertical-align: top;\n",
              "    }\n",
              "\n",
              "    .dataframe thead th {\n",
              "        text-align: right;\n",
              "    }\n",
              "</style>\n",
              "<table border=\"1\" class=\"dataframe\">\n",
              "  <thead>\n",
              "    <tr style=\"text-align: right;\">\n",
              "      <th></th>\n",
              "      <th>Make</th>\n",
              "      <th>Colour</th>\n",
              "      <th>Odometer (KM)</th>\n",
              "      <th>Doors</th>\n",
              "      <th>Price</th>\n",
              "    </tr>\n",
              "  </thead>\n",
              "  <tbody>\n",
              "    <tr>\n",
              "      <th>0</th>\n",
              "      <td>Honda</td>\n",
              "      <td>White</td>\n",
              "      <td>35431</td>\n",
              "      <td>4</td>\n",
              "      <td>15323</td>\n",
              "    </tr>\n",
              "    <tr>\n",
              "      <th>1</th>\n",
              "      <td>BMW</td>\n",
              "      <td>Blue</td>\n",
              "      <td>192714</td>\n",
              "      <td>5</td>\n",
              "      <td>19943</td>\n",
              "    </tr>\n",
              "    <tr>\n",
              "      <th>2</th>\n",
              "      <td>Honda</td>\n",
              "      <td>White</td>\n",
              "      <td>84714</td>\n",
              "      <td>4</td>\n",
              "      <td>28343</td>\n",
              "    </tr>\n",
              "    <tr>\n",
              "      <th>3</th>\n",
              "      <td>Toyota</td>\n",
              "      <td>White</td>\n",
              "      <td>154365</td>\n",
              "      <td>4</td>\n",
              "      <td>13434</td>\n",
              "    </tr>\n",
              "    <tr>\n",
              "      <th>4</th>\n",
              "      <td>Nissan</td>\n",
              "      <td>Blue</td>\n",
              "      <td>181577</td>\n",
              "      <td>3</td>\n",
              "      <td>14043</td>\n",
              "    </tr>\n",
              "  </tbody>\n",
              "</table>\n",
              "</div>"
            ],
            "text/plain": [
              "     Make Colour  Odometer (KM)  Doors  Price\n",
              "0   Honda  White          35431      4  15323\n",
              "1     BMW   Blue         192714      5  19943\n",
              "2   Honda  White          84714      4  28343\n",
              "3  Toyota  White         154365      4  13434\n",
              "4  Nissan   Blue         181577      3  14043"
            ]
          },
          "metadata": {
            "tags": []
          },
          "execution_count": 21
        }
      ]
    },
    {
      "cell_type": "code",
      "metadata": {
        "colab": {
          "base_uri": "https://localhost:8080/"
        },
        "id": "_EbF1AkNdaQB",
        "outputId": "b2583bdb-56c1-4b2e-f56d-2d3f5d7bdc92"
      },
      "source": [
        "car_sales.dtypes"
      ],
      "execution_count": 22,
      "outputs": [
        {
          "output_type": "execute_result",
          "data": {
            "text/plain": [
              "Make             object\n",
              "Colour           object\n",
              "Odometer (KM)     int64\n",
              "Doors             int64\n",
              "Price             int64\n",
              "dtype: object"
            ]
          },
          "metadata": {
            "tags": []
          },
          "execution_count": 22
        }
      ]
    },
    {
      "cell_type": "code",
      "metadata": {
        "id": "8Yq5d6HTddP6"
      },
      "source": [
        "# Split into labels (car_sales data)\n",
        "X = car_sales.drop(\"Price\", axis=1)\n",
        "y = car_sales[\"Price\"]"
      ],
      "execution_count": 23,
      "outputs": []
    },
    {
      "cell_type": "markdown",
      "metadata": {
        "id": "n8TGkv0HkPzx"
      },
      "source": [
        "#### 1.2.1 Convert to Numerical Value"
      ]
    },
    {
      "cell_type": "code",
      "metadata": {
        "id": "XGnr22pgh8fy"
      },
      "source": [
        "from sklearn.preprocessing import OneHotEncoder\n",
        "from sklearn.compose import ColumnTransformer\n",
        "\n",
        "categorical_features = [\"Make\", \"Colour\", \"Doors\"] # these should be converted to numerical value from non-numerical\n",
        "# Doors is used despite its an integer because, 4: 865, 3: 65, 5: 300 etc. [number of doors: number of instances of that number of door]\n",
        "\n",
        "one_hot = OneHotEncoder() # One Hot Encoding\n",
        "\n",
        "transformer = ColumnTransformer([(\"one_hot\", one_hot, categorical_features)], remainder=\"passthrough\")\n",
        "\n",
        "transformed_X = transformer.fit_transform(X)"
      ],
      "execution_count": 24,
      "outputs": []
    },
    {
      "cell_type": "code",
      "metadata": {
        "colab": {
          "base_uri": "https://localhost:8080/",
          "height": 204
        },
        "id": "ikSZnuD5jyU_",
        "outputId": "77dc43b7-f0af-4346-acfd-5150c2ea2536"
      },
      "source": [
        "pd.DataFrame(transformed_X).head()"
      ],
      "execution_count": 25,
      "outputs": [
        {
          "output_type": "execute_result",
          "data": {
            "text/html": [
              "<div>\n",
              "<style scoped>\n",
              "    .dataframe tbody tr th:only-of-type {\n",
              "        vertical-align: middle;\n",
              "    }\n",
              "\n",
              "    .dataframe tbody tr th {\n",
              "        vertical-align: top;\n",
              "    }\n",
              "\n",
              "    .dataframe thead th {\n",
              "        text-align: right;\n",
              "    }\n",
              "</style>\n",
              "<table border=\"1\" class=\"dataframe\">\n",
              "  <thead>\n",
              "    <tr style=\"text-align: right;\">\n",
              "      <th></th>\n",
              "      <th>0</th>\n",
              "      <th>1</th>\n",
              "      <th>2</th>\n",
              "      <th>3</th>\n",
              "      <th>4</th>\n",
              "      <th>5</th>\n",
              "      <th>6</th>\n",
              "      <th>7</th>\n",
              "      <th>8</th>\n",
              "      <th>9</th>\n",
              "      <th>10</th>\n",
              "      <th>11</th>\n",
              "      <th>12</th>\n",
              "    </tr>\n",
              "  </thead>\n",
              "  <tbody>\n",
              "    <tr>\n",
              "      <th>0</th>\n",
              "      <td>0.0</td>\n",
              "      <td>1.0</td>\n",
              "      <td>0.0</td>\n",
              "      <td>0.0</td>\n",
              "      <td>0.0</td>\n",
              "      <td>0.0</td>\n",
              "      <td>0.0</td>\n",
              "      <td>0.0</td>\n",
              "      <td>1.0</td>\n",
              "      <td>0.0</td>\n",
              "      <td>1.0</td>\n",
              "      <td>0.0</td>\n",
              "      <td>35431.0</td>\n",
              "    </tr>\n",
              "    <tr>\n",
              "      <th>1</th>\n",
              "      <td>1.0</td>\n",
              "      <td>0.0</td>\n",
              "      <td>0.0</td>\n",
              "      <td>0.0</td>\n",
              "      <td>0.0</td>\n",
              "      <td>1.0</td>\n",
              "      <td>0.0</td>\n",
              "      <td>0.0</td>\n",
              "      <td>0.0</td>\n",
              "      <td>0.0</td>\n",
              "      <td>0.0</td>\n",
              "      <td>1.0</td>\n",
              "      <td>192714.0</td>\n",
              "    </tr>\n",
              "    <tr>\n",
              "      <th>2</th>\n",
              "      <td>0.0</td>\n",
              "      <td>1.0</td>\n",
              "      <td>0.0</td>\n",
              "      <td>0.0</td>\n",
              "      <td>0.0</td>\n",
              "      <td>0.0</td>\n",
              "      <td>0.0</td>\n",
              "      <td>0.0</td>\n",
              "      <td>1.0</td>\n",
              "      <td>0.0</td>\n",
              "      <td>1.0</td>\n",
              "      <td>0.0</td>\n",
              "      <td>84714.0</td>\n",
              "    </tr>\n",
              "    <tr>\n",
              "      <th>3</th>\n",
              "      <td>0.0</td>\n",
              "      <td>0.0</td>\n",
              "      <td>0.0</td>\n",
              "      <td>1.0</td>\n",
              "      <td>0.0</td>\n",
              "      <td>0.0</td>\n",
              "      <td>0.0</td>\n",
              "      <td>0.0</td>\n",
              "      <td>1.0</td>\n",
              "      <td>0.0</td>\n",
              "      <td>1.0</td>\n",
              "      <td>0.0</td>\n",
              "      <td>154365.0</td>\n",
              "    </tr>\n",
              "    <tr>\n",
              "      <th>4</th>\n",
              "      <td>0.0</td>\n",
              "      <td>0.0</td>\n",
              "      <td>1.0</td>\n",
              "      <td>0.0</td>\n",
              "      <td>0.0</td>\n",
              "      <td>1.0</td>\n",
              "      <td>0.0</td>\n",
              "      <td>0.0</td>\n",
              "      <td>0.0</td>\n",
              "      <td>1.0</td>\n",
              "      <td>0.0</td>\n",
              "      <td>0.0</td>\n",
              "      <td>181577.0</td>\n",
              "    </tr>\n",
              "  </tbody>\n",
              "</table>\n",
              "</div>"
            ],
            "text/plain": [
              "    0    1    2    3    4    5    6    7    8    9    10   11        12\n",
              "0  0.0  1.0  0.0  0.0  0.0  0.0  0.0  0.0  1.0  0.0  1.0  0.0   35431.0\n",
              "1  1.0  0.0  0.0  0.0  0.0  1.0  0.0  0.0  0.0  0.0  0.0  1.0  192714.0\n",
              "2  0.0  1.0  0.0  0.0  0.0  0.0  0.0  0.0  1.0  0.0  1.0  0.0   84714.0\n",
              "3  0.0  0.0  0.0  1.0  0.0  0.0  0.0  0.0  1.0  0.0  1.0  0.0  154365.0\n",
              "4  0.0  0.0  1.0  0.0  0.0  1.0  0.0  0.0  0.0  1.0  0.0  0.0  181577.0"
            ]
          },
          "metadata": {
            "tags": []
          },
          "execution_count": 25
        }
      ]
    },
    {
      "cell_type": "markdown",
      "metadata": {
        "id": "DBDR5yVYlct8"
      },
      "source": [
        "#### Optional\n",
        "#### Basically One Hot Encoded dataset will look like this:"
      ]
    },
    {
      "cell_type": "code",
      "metadata": {
        "colab": {
          "base_uri": "https://localhost:8080/",
          "height": 204
        },
        "id": "inN4tYbTlJ2b",
        "outputId": "6de03014-4d8c-4167-e71e-d91083dfea97"
      },
      "source": [
        "dummies = pd.get_dummies(car_sales[categorical_features])\n",
        "\n",
        "dummies.head()"
      ],
      "execution_count": 26,
      "outputs": [
        {
          "output_type": "execute_result",
          "data": {
            "text/html": [
              "<div>\n",
              "<style scoped>\n",
              "    .dataframe tbody tr th:only-of-type {\n",
              "        vertical-align: middle;\n",
              "    }\n",
              "\n",
              "    .dataframe tbody tr th {\n",
              "        vertical-align: top;\n",
              "    }\n",
              "\n",
              "    .dataframe thead th {\n",
              "        text-align: right;\n",
              "    }\n",
              "</style>\n",
              "<table border=\"1\" class=\"dataframe\">\n",
              "  <thead>\n",
              "    <tr style=\"text-align: right;\">\n",
              "      <th></th>\n",
              "      <th>Doors</th>\n",
              "      <th>Make_BMW</th>\n",
              "      <th>Make_Honda</th>\n",
              "      <th>Make_Nissan</th>\n",
              "      <th>Make_Toyota</th>\n",
              "      <th>Colour_Black</th>\n",
              "      <th>Colour_Blue</th>\n",
              "      <th>Colour_Green</th>\n",
              "      <th>Colour_Red</th>\n",
              "      <th>Colour_White</th>\n",
              "    </tr>\n",
              "  </thead>\n",
              "  <tbody>\n",
              "    <tr>\n",
              "      <th>0</th>\n",
              "      <td>4</td>\n",
              "      <td>0</td>\n",
              "      <td>1</td>\n",
              "      <td>0</td>\n",
              "      <td>0</td>\n",
              "      <td>0</td>\n",
              "      <td>0</td>\n",
              "      <td>0</td>\n",
              "      <td>0</td>\n",
              "      <td>1</td>\n",
              "    </tr>\n",
              "    <tr>\n",
              "      <th>1</th>\n",
              "      <td>5</td>\n",
              "      <td>1</td>\n",
              "      <td>0</td>\n",
              "      <td>0</td>\n",
              "      <td>0</td>\n",
              "      <td>0</td>\n",
              "      <td>1</td>\n",
              "      <td>0</td>\n",
              "      <td>0</td>\n",
              "      <td>0</td>\n",
              "    </tr>\n",
              "    <tr>\n",
              "      <th>2</th>\n",
              "      <td>4</td>\n",
              "      <td>0</td>\n",
              "      <td>1</td>\n",
              "      <td>0</td>\n",
              "      <td>0</td>\n",
              "      <td>0</td>\n",
              "      <td>0</td>\n",
              "      <td>0</td>\n",
              "      <td>0</td>\n",
              "      <td>1</td>\n",
              "    </tr>\n",
              "    <tr>\n",
              "      <th>3</th>\n",
              "      <td>4</td>\n",
              "      <td>0</td>\n",
              "      <td>0</td>\n",
              "      <td>0</td>\n",
              "      <td>1</td>\n",
              "      <td>0</td>\n",
              "      <td>0</td>\n",
              "      <td>0</td>\n",
              "      <td>0</td>\n",
              "      <td>1</td>\n",
              "    </tr>\n",
              "    <tr>\n",
              "      <th>4</th>\n",
              "      <td>3</td>\n",
              "      <td>0</td>\n",
              "      <td>0</td>\n",
              "      <td>1</td>\n",
              "      <td>0</td>\n",
              "      <td>0</td>\n",
              "      <td>1</td>\n",
              "      <td>0</td>\n",
              "      <td>0</td>\n",
              "      <td>0</td>\n",
              "    </tr>\n",
              "  </tbody>\n",
              "</table>\n",
              "</div>"
            ],
            "text/plain": [
              "   Doors  Make_BMW  Make_Honda  ...  Colour_Green  Colour_Red  Colour_White\n",
              "0      4         0           1  ...             0           0             1\n",
              "1      5         1           0  ...             0           0             0\n",
              "2      4         0           1  ...             0           0             1\n",
              "3      4         0           0  ...             0           0             1\n",
              "4      3         0           0  ...             0           0             0\n",
              "\n",
              "[5 rows x 10 columns]"
            ]
          },
          "metadata": {
            "tags": []
          },
          "execution_count": 26
        }
      ]
    },
    {
      "cell_type": "code",
      "metadata": {
        "colab": {
          "base_uri": "https://localhost:8080/"
        },
        "id": "pWx-9oFLeboL",
        "outputId": "b36493d4-7bc6-4c04-8e14-61cacd5a9ea3"
      },
      "source": [
        "# Fit Model\n",
        "\n",
        "# setup random seed\n",
        "np.random.seed(42)\n",
        "\n",
        "# Split into training and test data\n",
        "X_train, X_test, y_train, y_test = train_test_split(transformed_X, y, test_size=0.2)\n",
        "\n",
        "# Build machine learning model\n",
        "from sklearn.ensemble import RandomForestRegressor # Regression, as it will predict price (numeric value)\n",
        "\n",
        "model = RandomForestRegressor()\n",
        "\n",
        "model.fit(X_train, y_train)\n",
        "\n",
        "model.score(X_test, y_test)"
      ],
      "execution_count": 27,
      "outputs": [
        {
          "output_type": "execute_result",
          "data": {
            "text/plain": [
              "0.3235867221569877"
            ]
          },
          "metadata": {
            "tags": []
          },
          "execution_count": 27
        }
      ]
    },
    {
      "cell_type": "markdown",
      "metadata": {
        "id": "-6WG4eOm1-RI"
      },
      "source": [
        "#### 1.3 Handle Missing Values\n",
        "\n",
        "1. Fill with some values (imputation)\n",
        "2. Remove the samples with missing values"
      ]
    },
    {
      "cell_type": "code",
      "metadata": {
        "id": "AGOKZRQYmNRv"
      },
      "source": [
        "car_sales_missing = pd.read_csv(\"https://raw.githubusercontent.com/mrdbourke/zero-to-mastery-ml/master/data/car-sales-extended-missing-data.csv\")"
      ],
      "execution_count": 28,
      "outputs": []
    },
    {
      "cell_type": "code",
      "metadata": {
        "colab": {
          "base_uri": "https://localhost:8080/"
        },
        "id": "irIX6dWo2s3s",
        "outputId": "da44c8c6-0454-46f3-f0c2-e0d124f928bc"
      },
      "source": [
        "# How many missing data are there\n",
        "car_sales_missing.isna().sum()"
      ],
      "execution_count": 29,
      "outputs": [
        {
          "output_type": "execute_result",
          "data": {
            "text/plain": [
              "Make             49\n",
              "Colour           50\n",
              "Odometer (KM)    50\n",
              "Doors            50\n",
              "Price            50\n",
              "dtype: int64"
            ]
          },
          "metadata": {
            "tags": []
          },
          "execution_count": 29
        }
      ]
    },
    {
      "cell_type": "markdown",
      "metadata": {
        "id": "7J8p_3rs8b_9"
      },
      "source": [
        "#### Option 1: Handle missing data with pandas"
      ]
    },
    {
      "cell_type": "code",
      "metadata": {
        "id": "qVWGw0lE8hZ4"
      },
      "source": [
        "# fill missing data of \"Make\" column\n",
        "car_sales_missing[\"Make\"].fillna(\"missing\", inplace=True)\n",
        "\n",
        "# fill missing data of \"Colour\" column\n",
        "car_sales_missing[\"Colour\"].fillna(\"missing\", inplace=True)\n",
        "\n",
        "# fill missing data of \"Odometer (KM)\" column\n",
        "car_sales_missing[\"Odometer (KM)\"].fillna(car_sales_missing[\"Odometer (KM)\"].mean(), inplace=True)\n",
        "\n",
        "# fill missing data of \"Doors\" column\n",
        "car_sales_missing[\"Doors\"].fillna(4, inplace=True)"
      ],
      "execution_count": 30,
      "outputs": []
    },
    {
      "cell_type": "code",
      "metadata": {
        "colab": {
          "base_uri": "https://localhost:8080/"
        },
        "id": "hvChdYOe9Wgw",
        "outputId": "41ef99e1-f479-48dc-d0da-8c304e3b2866"
      },
      "source": [
        "car_sales_missing.isna().sum()"
      ],
      "execution_count": 31,
      "outputs": [
        {
          "output_type": "execute_result",
          "data": {
            "text/plain": [
              "Make              0\n",
              "Colour            0\n",
              "Odometer (KM)     0\n",
              "Doors             0\n",
              "Price            50\n",
              "dtype: int64"
            ]
          },
          "metadata": {
            "tags": []
          },
          "execution_count": 31
        }
      ]
    },
    {
      "cell_type": "code",
      "metadata": {
        "id": "KvVFsons9aIc"
      },
      "source": [
        "# As Price is the thing that we will predict, we didn't fill it up\n",
        "\n",
        "# So, lets Remove rows with missing Price Value\n",
        "car_sales_missing.dropna(inplace=True)"
      ],
      "execution_count": 32,
      "outputs": []
    },
    {
      "cell_type": "code",
      "metadata": {
        "colab": {
          "base_uri": "https://localhost:8080/"
        },
        "id": "aqk57_df9ykM",
        "outputId": "d017a23e-f8de-4ba0-e95e-b44ff0f5ceb9"
      },
      "source": [
        "len(car_sales_missing) # 50 rows that were missing Price value are dropped"
      ],
      "execution_count": 33,
      "outputs": [
        {
          "output_type": "execute_result",
          "data": {
            "text/plain": [
              "950"
            ]
          },
          "metadata": {
            "tags": []
          },
          "execution_count": 33
        }
      ]
    },
    {
      "cell_type": "code",
      "metadata": {
        "id": "zKpDtOaM29l3"
      },
      "source": [
        "# Create X/y labels\n",
        "X = car_sales_missing.drop(\"Price\", axis=1)\n",
        "y = car_sales_missing[\"Price\"]"
      ],
      "execution_count": 34,
      "outputs": []
    },
    {
      "cell_type": "code",
      "metadata": {
        "id": "h5GAVO0c3akz"
      },
      "source": [
        "# Convert non-numerical values to numerical values \n",
        "from sklearn.preprocessing import OneHotEncoder\n",
        "from sklearn.compose import ColumnTransformer\n",
        "\n",
        "categorical_features = [\"Make\", \"Colour\", \"Doors\"] # these should be converted to numerical value from non-numerical\n",
        "# Doors is used despite its an integer because, 4: 865, 3: 65, 5: 300 etc. [number of doors: number of instances of that number of door]\n",
        "\n",
        "one_hot = OneHotEncoder() # One Hot Encoding\n",
        "\n",
        "transformer = ColumnTransformer([(\"one_hot\", one_hot, categorical_features)], remainder=\"passthrough\")\n",
        "\n",
        "transformed_X = transformer.fit_transform(X)"
      ],
      "execution_count": 35,
      "outputs": []
    },
    {
      "cell_type": "markdown",
      "metadata": {
        "id": "szglKHO-4hNu"
      },
      "source": [
        "#### Option 2: Handle missing data with scikit-learn"
      ]
    },
    {
      "cell_type": "code",
      "metadata": {
        "id": "koDe90Fo-MUN",
        "colab": {
          "base_uri": "https://localhost:8080/"
        },
        "outputId": "705bf8d1-1686-47e2-94b5-a59e7d00ccd4"
      },
      "source": [
        "car_sales_missing = pd.read_csv(\"https://raw.githubusercontent.com/mrdbourke/zero-to-mastery-ml/master/data/car-sales-extended-missing-data.csv\")\n",
        "car_sales_missing.isna().sum()"
      ],
      "execution_count": 36,
      "outputs": [
        {
          "output_type": "execute_result",
          "data": {
            "text/plain": [
              "Make             49\n",
              "Colour           50\n",
              "Odometer (KM)    50\n",
              "Doors            50\n",
              "Price            50\n",
              "dtype: int64"
            ]
          },
          "metadata": {
            "tags": []
          },
          "execution_count": 36
        }
      ]
    },
    {
      "cell_type": "code",
      "metadata": {
        "colab": {
          "base_uri": "https://localhost:8080/"
        },
        "id": "9YnjaQ_v4usm",
        "outputId": "05ed55dd-62cd-4031-d951-b27d79ca30c1"
      },
      "source": [
        "# Drop rows that don't have Price values\n",
        "car_sales_missing.dropna(subset=[\"Price\"], inplace=True)\n",
        "car_sales_missing.isna().sum()"
      ],
      "execution_count": 37,
      "outputs": [
        {
          "output_type": "execute_result",
          "data": {
            "text/plain": [
              "Make             47\n",
              "Colour           46\n",
              "Odometer (KM)    48\n",
              "Doors            47\n",
              "Price             0\n",
              "dtype: int64"
            ]
          },
          "metadata": {
            "tags": []
          },
          "execution_count": 37
        }
      ]
    },
    {
      "cell_type": "code",
      "metadata": {
        "colab": {
          "base_uri": "https://localhost:8080/"
        },
        "id": "81Ll-uJX5pWh",
        "outputId": "0a9b6159-4c51-4ad5-8942-b3fcb9fea6d0"
      },
      "source": [
        "# Fill missing values with scikit-learn\n",
        "from sklearn.impute import SimpleImputer\n",
        "from sklearn.compose import ColumnTransformer\n",
        "\n",
        "\n",
        "# Fill categorical values with \"missing\", door values with 4 and numerical values with mean\n",
        "category_imputer = SimpleImputer(strategy=\"constant\", fill_value=\"missing\") # strategy=constant means do the same thing for every missing cell\n",
        "door_imputer = SimpleImputer(strategy=\"constant\", fill_value=4)\n",
        "num_imputer = SimpleImputer(strategy=\"mean\")\n",
        "\n",
        "# Define columns\n",
        "category_features = [\"Make\", \"Colour\"]\n",
        "door_features = [\"Doors\"]\n",
        "num_features = [\"Odometer (KM)\"]\n",
        "\n",
        "# Create Imputer\n",
        "imputer = ColumnTransformer([\n",
        "                             (\"category_imputer\", category_imputer, category_features),\n",
        "                             (\"door_imputer\", door_imputer, door_features),\n",
        "                             (\"num_imputer\", num_imputer, num_features)\n",
        "])\n",
        "\n",
        "filled_X = imputer.fit_transform(X)\n",
        "filled_X"
      ],
      "execution_count": 38,
      "outputs": [
        {
          "output_type": "execute_result",
          "data": {
            "text/plain": [
              "array([['Honda', 'White', 4.0, 35431.0],\n",
              "       ['BMW', 'Blue', 5.0, 192714.0],\n",
              "       ['Honda', 'White', 4.0, 84714.0],\n",
              "       ...,\n",
              "       ['Nissan', 'Blue', 4.0, 66604.0],\n",
              "       ['Honda', 'White', 4.0, 215883.0],\n",
              "       ['Toyota', 'Blue', 4.0, 248360.0]], dtype=object)"
            ]
          },
          "metadata": {
            "tags": []
          },
          "execution_count": 38
        }
      ]
    },
    {
      "cell_type": "code",
      "metadata": {
        "colab": {
          "base_uri": "https://localhost:8080/"
        },
        "id": "qGxzHaRJ9CV_",
        "outputId": "b6d46dbc-c640-4406-b34f-16689cfa873d"
      },
      "source": [
        "car_sales_filled = pd.DataFrame(filled_X, columns=[\"Make\", \"Colour\", \"Doors\", \"Odometer (KM)\"])\n",
        "car_sales_filled.isna().sum()"
      ],
      "execution_count": 39,
      "outputs": [
        {
          "output_type": "execute_result",
          "data": {
            "text/plain": [
              "Make             0\n",
              "Colour           0\n",
              "Doors            0\n",
              "Odometer (KM)    0\n",
              "dtype: int64"
            ]
          },
          "metadata": {
            "tags": []
          },
          "execution_count": 39
        }
      ]
    },
    {
      "cell_type": "code",
      "metadata": {
        "id": "SROaR8V29i6Y"
      },
      "source": [
        "# Convert non-numerical values to numerical values \n",
        "from sklearn.preprocessing import OneHotEncoder\n",
        "from sklearn.compose import ColumnTransformer\n",
        "\n",
        "categorical_features = [\"Make\", \"Colour\", \"Doors\"] # these should be converted to numerical value from non-numerical\n",
        "# Doors is used despite its an integer because, 4: 865, 3: 65, 5: 300 etc. [number of doors: number of instances of that number of door]\n",
        "\n",
        "one_hot = OneHotEncoder() # One Hot Encoding\n",
        "\n",
        "transformer = ColumnTransformer([(\"one_hot\", one_hot, categorical_features)], remainder=\"passthrough\")\n",
        "\n",
        "transformed_X = transformer.fit_transform(car_sales_filled)"
      ],
      "execution_count": 40,
      "outputs": []
    },
    {
      "cell_type": "code",
      "metadata": {
        "id": "JplkDljW5N4l"
      },
      "source": [
        "# Split into X/y\n",
        "X = car_sales_missing.drop(\"Price\", axis=1)\n",
        "y = car_sales_missing[\"Price\"]"
      ],
      "execution_count": 41,
      "outputs": []
    },
    {
      "cell_type": "markdown",
      "metadata": {
        "id": "qTjB4K9r_eh9"
      },
      "source": [
        "#### Fit model\n",
        "\n",
        "For both options (Option-1 & Option-2) Model will perform the same,\n",
        "that's why we didn't fit a model for Option-1"
      ]
    },
    {
      "cell_type": "code",
      "metadata": {
        "colab": {
          "base_uri": "https://localhost:8080/"
        },
        "id": "KiJ3BHo695xk",
        "outputId": "85a8a44d-e250-4a2f-fd83-112aa5917dc0"
      },
      "source": [
        "# Fit model\n",
        "\n",
        "# setup random seed\n",
        "np.random.seed(42)\n",
        "\n",
        "from sklearn.ensemble import RandomForestRegressor\n",
        "from sklearn.model_selection import train_test_split\n",
        "\n",
        "X_train, X_test, y_train, y_test = train_test_split(transformed_X, y, test_size=0.2)\n",
        "\n",
        "model = RandomForestRegressor()\n",
        "\n",
        "model.fit(X_train, y_train)\n",
        "\n",
        "model.score(X_test, y_test)"
      ],
      "execution_count": 42,
      "outputs": [
        {
          "output_type": "execute_result",
          "data": {
            "text/plain": [
              "0.22011714008302485"
            ]
          },
          "metadata": {
            "tags": []
          },
          "execution_count": 42
        }
      ]
    },
    {
      "cell_type": "markdown",
      "metadata": {
        "id": "LmWCfLwdAdSq"
      },
      "source": [
        "In this case, model performs better when we keep missing values as it is, instead of filling up or dropping the missing values\n",
        "\n",
        "That's because the first one had 1000 samples and the second one had 950 samples\n",
        "\n",
        "But the take away is that, most of time a dataset won't be in a form ready to immediately start using in a ML model and most of the time the data have to be in numerical form and they can't have missing values."
      ]
    },
    {
      "cell_type": "markdown",
      "metadata": {
        "id": "r6euWsjJfQsZ"
      },
      "source": [
        "---"
      ]
    },
    {
      "cell_type": "markdown",
      "metadata": {
        "id": "Y5YKRIzQfT-z"
      },
      "source": [
        "## 2. Choose The Right Estimator/Model"
      ]
    },
    {
      "cell_type": "markdown",
      "metadata": {
        "id": "L2O0j3zUfe9X"
      },
      "source": [
        "In Scikit-learn the term estimator is used as another way of saying Machine learning Model/Algorithm\n",
        "\n",
        "- Classification: Predicting whether a sample is one thing or another\n",
        "- Regression: Predicting a numerical value (number)\n",
        "\n",
        "Always Check,\n",
        "\n",
        "Sklearn Machine Learning Map: https://scikit-learn.org/stable/tutorial/machine_learning_map/index.html"
      ]
    },
    {
      "cell_type": "markdown",
      "metadata": {
        "id": "dlJ839Q8gDKm"
      },
      "source": [
        "#### 2.1 Picking a machine learning model for a regression problem"
      ]
    },
    {
      "cell_type": "code",
      "metadata": {
        "id": "0bzBXNIq-oaQ",
        "colab": {
          "base_uri": "https://localhost:8080/",
          "height": 204
        },
        "outputId": "329e2117-c808-49b9-ace9-6b4ce3392306"
      },
      "source": [
        "# import Boston Housing dataset\n",
        "from sklearn.datasets import load_boston\n",
        "boston = load_boston()\n",
        "\n",
        "boston_df = pd.DataFrame(boston[\"data\"], columns=boston[\"feature_names\"])\n",
        "\n",
        "boston_df[\"target\"] = pd.Series(boston[\"target\"])\n",
        "\n",
        "boston_df.head()"
      ],
      "execution_count": 43,
      "outputs": [
        {
          "output_type": "execute_result",
          "data": {
            "text/html": [
              "<div>\n",
              "<style scoped>\n",
              "    .dataframe tbody tr th:only-of-type {\n",
              "        vertical-align: middle;\n",
              "    }\n",
              "\n",
              "    .dataframe tbody tr th {\n",
              "        vertical-align: top;\n",
              "    }\n",
              "\n",
              "    .dataframe thead th {\n",
              "        text-align: right;\n",
              "    }\n",
              "</style>\n",
              "<table border=\"1\" class=\"dataframe\">\n",
              "  <thead>\n",
              "    <tr style=\"text-align: right;\">\n",
              "      <th></th>\n",
              "      <th>CRIM</th>\n",
              "      <th>ZN</th>\n",
              "      <th>INDUS</th>\n",
              "      <th>CHAS</th>\n",
              "      <th>NOX</th>\n",
              "      <th>RM</th>\n",
              "      <th>AGE</th>\n",
              "      <th>DIS</th>\n",
              "      <th>RAD</th>\n",
              "      <th>TAX</th>\n",
              "      <th>PTRATIO</th>\n",
              "      <th>B</th>\n",
              "      <th>LSTAT</th>\n",
              "      <th>target</th>\n",
              "    </tr>\n",
              "  </thead>\n",
              "  <tbody>\n",
              "    <tr>\n",
              "      <th>0</th>\n",
              "      <td>0.00632</td>\n",
              "      <td>18.0</td>\n",
              "      <td>2.31</td>\n",
              "      <td>0.0</td>\n",
              "      <td>0.538</td>\n",
              "      <td>6.575</td>\n",
              "      <td>65.2</td>\n",
              "      <td>4.0900</td>\n",
              "      <td>1.0</td>\n",
              "      <td>296.0</td>\n",
              "      <td>15.3</td>\n",
              "      <td>396.90</td>\n",
              "      <td>4.98</td>\n",
              "      <td>24.0</td>\n",
              "    </tr>\n",
              "    <tr>\n",
              "      <th>1</th>\n",
              "      <td>0.02731</td>\n",
              "      <td>0.0</td>\n",
              "      <td>7.07</td>\n",
              "      <td>0.0</td>\n",
              "      <td>0.469</td>\n",
              "      <td>6.421</td>\n",
              "      <td>78.9</td>\n",
              "      <td>4.9671</td>\n",
              "      <td>2.0</td>\n",
              "      <td>242.0</td>\n",
              "      <td>17.8</td>\n",
              "      <td>396.90</td>\n",
              "      <td>9.14</td>\n",
              "      <td>21.6</td>\n",
              "    </tr>\n",
              "    <tr>\n",
              "      <th>2</th>\n",
              "      <td>0.02729</td>\n",
              "      <td>0.0</td>\n",
              "      <td>7.07</td>\n",
              "      <td>0.0</td>\n",
              "      <td>0.469</td>\n",
              "      <td>7.185</td>\n",
              "      <td>61.1</td>\n",
              "      <td>4.9671</td>\n",
              "      <td>2.0</td>\n",
              "      <td>242.0</td>\n",
              "      <td>17.8</td>\n",
              "      <td>392.83</td>\n",
              "      <td>4.03</td>\n",
              "      <td>34.7</td>\n",
              "    </tr>\n",
              "    <tr>\n",
              "      <th>3</th>\n",
              "      <td>0.03237</td>\n",
              "      <td>0.0</td>\n",
              "      <td>2.18</td>\n",
              "      <td>0.0</td>\n",
              "      <td>0.458</td>\n",
              "      <td>6.998</td>\n",
              "      <td>45.8</td>\n",
              "      <td>6.0622</td>\n",
              "      <td>3.0</td>\n",
              "      <td>222.0</td>\n",
              "      <td>18.7</td>\n",
              "      <td>394.63</td>\n",
              "      <td>2.94</td>\n",
              "      <td>33.4</td>\n",
              "    </tr>\n",
              "    <tr>\n",
              "      <th>4</th>\n",
              "      <td>0.06905</td>\n",
              "      <td>0.0</td>\n",
              "      <td>2.18</td>\n",
              "      <td>0.0</td>\n",
              "      <td>0.458</td>\n",
              "      <td>7.147</td>\n",
              "      <td>54.2</td>\n",
              "      <td>6.0622</td>\n",
              "      <td>3.0</td>\n",
              "      <td>222.0</td>\n",
              "      <td>18.7</td>\n",
              "      <td>396.90</td>\n",
              "      <td>5.33</td>\n",
              "      <td>36.2</td>\n",
              "    </tr>\n",
              "  </tbody>\n",
              "</table>\n",
              "</div>"
            ],
            "text/plain": [
              "      CRIM    ZN  INDUS  CHAS    NOX  ...    TAX  PTRATIO       B  LSTAT  target\n",
              "0  0.00632  18.0   2.31   0.0  0.538  ...  296.0     15.3  396.90   4.98    24.0\n",
              "1  0.02731   0.0   7.07   0.0  0.469  ...  242.0     17.8  396.90   9.14    21.6\n",
              "2  0.02729   0.0   7.07   0.0  0.469  ...  242.0     17.8  392.83   4.03    34.7\n",
              "3  0.03237   0.0   2.18   0.0  0.458  ...  222.0     18.7  394.63   2.94    33.4\n",
              "4  0.06905   0.0   2.18   0.0  0.458  ...  222.0     18.7  396.90   5.33    36.2\n",
              "\n",
              "[5 rows x 14 columns]"
            ]
          },
          "metadata": {
            "tags": []
          },
          "execution_count": 43
        }
      ]
    },
    {
      "cell_type": "markdown",
      "metadata": {
        "id": "6pekoZkzioaw"
      },
      "source": [
        "#### Attribute Information:\n",
        "\n",
        "- CRIM per capita crime rate by town\n",
        "\n",
        "- ZN proportion of residential land zoned for lots over 25,000 sq.ft.\n",
        "\n",
        "- INDUS proportion of non-retail business acres per town\n",
        "\n",
        "- CHAS Charles River dummy variable (= 1 if tract bounds river; 0 otherwise)\n",
        "\n",
        "- NOX nitric oxides concentration (parts per 10 million)\n",
        "\n",
        "- RM average number of rooms per dwelling\n",
        "\n",
        "- AGE proportion of owner-occupied units built prior to 1940\n",
        "\n",
        "- DIS weighted distances to five Boston employment centres\n",
        "\n",
        "- RAD index of accessibility to radial highways\n",
        "\n",
        "- TAX full-value property-tax rate per $10,000\n",
        "\n",
        "- PTRATIO pupil-teacher ratio by town\n",
        "\n",
        "- B 1000(Bk - 0.63)^2 where Bk is the proportion of blacks by town\n",
        "\n",
        "- LSTAT % lower status of the population\n",
        "\n",
        "- MEDV Median value of owner-occupied homes in $1000’s"
      ]
    },
    {
      "cell_type": "code",
      "metadata": {
        "colab": {
          "base_uri": "https://localhost:8080/"
        },
        "id": "3YWyLXINhGFX",
        "outputId": "9b094bed-918b-4eb8-bdd9-40014843b22f"
      },
      "source": [
        "# Let's try Ridge Regression model\n",
        "from sklearn.linear_model import Ridge\n",
        "\n",
        "# Setup a random seed\n",
        "np.random.seed(42)\n",
        "\n",
        "# Split X/y\n",
        "X = boston_df.drop(\"target\", axis=1)\n",
        "y = boston_df[\"target\"]\n",
        "\n",
        "# Split into training and test sets\n",
        "X_train, X_test, y_train, y_test = train_test_split(X, y, test_size=0.2)\n",
        "\n",
        "# Instantiate Ridge model\n",
        "model = Ridge()\n",
        "model.fit(X_train, y_train)\n",
        "\n",
        "# Check the score of the model\n",
        "model.score(X_test, y_test)"
      ],
      "execution_count": 44,
      "outputs": [
        {
          "output_type": "execute_result",
          "data": {
            "text/plain": [
              "0.6662221670168522"
            ]
          },
          "metadata": {
            "tags": []
          },
          "execution_count": 44
        }
      ]
    },
    {
      "cell_type": "markdown",
      "metadata": {
        "id": "MaWe7fggoJD4"
      },
      "source": [
        "- What if Ridge is not working?\n",
        "- How to improve the score?"
      ]
    },
    {
      "cell_type": "code",
      "metadata": {
        "colab": {
          "base_uri": "https://localhost:8080/"
        },
        "id": "QKFBPkYgknV1",
        "outputId": "d44f71da-e95b-4f57-c670-ef2c86ebe527"
      },
      "source": [
        "# Let's try Random Forest Regressor\n",
        "from sklearn.ensemble import RandomForestRegressor\n",
        "\n",
        "# Setup random seed\n",
        "np.random.seed(42)\n",
        "\n",
        "# Split into X/y\n",
        "X = boston_df.drop(\"target\", axis=1)\n",
        "y = boston_df[\"target\"]\n",
        "\n",
        "# Split into training and test sets\n",
        "X_train, X_test, y_train, y_test = train_test_split(X, y, test_size=0.2)\n",
        "\n",
        "# Instantiate RandomForestRegressor Model\n",
        "rf = RandomForestRegressor()\n",
        "rf.fit(X_train, y_train)\n",
        "\n",
        "# Check the score of the model\n",
        "rf.score(X_test, y_test)"
      ],
      "execution_count": 45,
      "outputs": [
        {
          "output_type": "execute_result",
          "data": {
            "text/plain": [
              "0.873969014117403"
            ]
          },
          "metadata": {
            "tags": []
          },
          "execution_count": 45
        }
      ]
    },
    {
      "cell_type": "markdown",
      "metadata": {
        "id": "1PoaOuL5pubN"
      },
      "source": [
        "So, just by changing the model (following https://scikit-learn.org/stable/tutorial/machine_learning_map/index.html) the score was improved to 0.874 from 0.666"
      ]
    },
    {
      "cell_type": "markdown",
      "metadata": {
        "id": "1byf6c-zrw0L"
      },
      "source": [
        "#### 2.2 Picking a machine learning model for a classification problem"
      ]
    },
    {
      "cell_type": "code",
      "metadata": {
        "colab": {
          "base_uri": "https://localhost:8080/",
          "height": 204
        },
        "id": "HV7wgnbyo-0I",
        "outputId": "b8e1168a-c925-4caf-ccc6-4b844ae0a4c3"
      },
      "source": [
        "heart_disease = pd.read_csv(\"https://raw.githubusercontent.com/mrdbourke/zero-to-mastery-ml/master/data/heart-disease.csv\")\n",
        "heart_disease.head()"
      ],
      "execution_count": 46,
      "outputs": [
        {
          "output_type": "execute_result",
          "data": {
            "text/html": [
              "<div>\n",
              "<style scoped>\n",
              "    .dataframe tbody tr th:only-of-type {\n",
              "        vertical-align: middle;\n",
              "    }\n",
              "\n",
              "    .dataframe tbody tr th {\n",
              "        vertical-align: top;\n",
              "    }\n",
              "\n",
              "    .dataframe thead th {\n",
              "        text-align: right;\n",
              "    }\n",
              "</style>\n",
              "<table border=\"1\" class=\"dataframe\">\n",
              "  <thead>\n",
              "    <tr style=\"text-align: right;\">\n",
              "      <th></th>\n",
              "      <th>age</th>\n",
              "      <th>sex</th>\n",
              "      <th>cp</th>\n",
              "      <th>trestbps</th>\n",
              "      <th>chol</th>\n",
              "      <th>fbs</th>\n",
              "      <th>restecg</th>\n",
              "      <th>thalach</th>\n",
              "      <th>exang</th>\n",
              "      <th>oldpeak</th>\n",
              "      <th>slope</th>\n",
              "      <th>ca</th>\n",
              "      <th>thal</th>\n",
              "      <th>target</th>\n",
              "    </tr>\n",
              "  </thead>\n",
              "  <tbody>\n",
              "    <tr>\n",
              "      <th>0</th>\n",
              "      <td>63</td>\n",
              "      <td>1</td>\n",
              "      <td>3</td>\n",
              "      <td>145</td>\n",
              "      <td>233</td>\n",
              "      <td>1</td>\n",
              "      <td>0</td>\n",
              "      <td>150</td>\n",
              "      <td>0</td>\n",
              "      <td>2.3</td>\n",
              "      <td>0</td>\n",
              "      <td>0</td>\n",
              "      <td>1</td>\n",
              "      <td>1</td>\n",
              "    </tr>\n",
              "    <tr>\n",
              "      <th>1</th>\n",
              "      <td>37</td>\n",
              "      <td>1</td>\n",
              "      <td>2</td>\n",
              "      <td>130</td>\n",
              "      <td>250</td>\n",
              "      <td>0</td>\n",
              "      <td>1</td>\n",
              "      <td>187</td>\n",
              "      <td>0</td>\n",
              "      <td>3.5</td>\n",
              "      <td>0</td>\n",
              "      <td>0</td>\n",
              "      <td>2</td>\n",
              "      <td>1</td>\n",
              "    </tr>\n",
              "    <tr>\n",
              "      <th>2</th>\n",
              "      <td>41</td>\n",
              "      <td>0</td>\n",
              "      <td>1</td>\n",
              "      <td>130</td>\n",
              "      <td>204</td>\n",
              "      <td>0</td>\n",
              "      <td>0</td>\n",
              "      <td>172</td>\n",
              "      <td>0</td>\n",
              "      <td>1.4</td>\n",
              "      <td>2</td>\n",
              "      <td>0</td>\n",
              "      <td>2</td>\n",
              "      <td>1</td>\n",
              "    </tr>\n",
              "    <tr>\n",
              "      <th>3</th>\n",
              "      <td>56</td>\n",
              "      <td>1</td>\n",
              "      <td>1</td>\n",
              "      <td>120</td>\n",
              "      <td>236</td>\n",
              "      <td>0</td>\n",
              "      <td>1</td>\n",
              "      <td>178</td>\n",
              "      <td>0</td>\n",
              "      <td>0.8</td>\n",
              "      <td>2</td>\n",
              "      <td>0</td>\n",
              "      <td>2</td>\n",
              "      <td>1</td>\n",
              "    </tr>\n",
              "    <tr>\n",
              "      <th>4</th>\n",
              "      <td>57</td>\n",
              "      <td>0</td>\n",
              "      <td>0</td>\n",
              "      <td>120</td>\n",
              "      <td>354</td>\n",
              "      <td>0</td>\n",
              "      <td>1</td>\n",
              "      <td>163</td>\n",
              "      <td>1</td>\n",
              "      <td>0.6</td>\n",
              "      <td>2</td>\n",
              "      <td>0</td>\n",
              "      <td>2</td>\n",
              "      <td>1</td>\n",
              "    </tr>\n",
              "  </tbody>\n",
              "</table>\n",
              "</div>"
            ],
            "text/plain": [
              "   age  sex  cp  trestbps  chol  fbs  ...  exang  oldpeak  slope  ca  thal  target\n",
              "0   63    1   3       145   233    1  ...      0      2.3      0   0     1       1\n",
              "1   37    1   2       130   250    0  ...      0      3.5      0   0     2       1\n",
              "2   41    0   1       130   204    0  ...      0      1.4      2   0     2       1\n",
              "3   56    1   1       120   236    0  ...      0      0.8      2   0     2       1\n",
              "4   57    0   0       120   354    0  ...      1      0.6      2   0     2       1\n",
              "\n",
              "[5 rows x 14 columns]"
            ]
          },
          "metadata": {
            "tags": []
          },
          "execution_count": 46
        }
      ]
    },
    {
      "cell_type": "code",
      "metadata": {
        "colab": {
          "base_uri": "https://localhost:8080/"
        },
        "id": "HlQSaVOssKf_",
        "outputId": "d6f99f46-88d9-419e-9079-23169de1e25b"
      },
      "source": [
        "# Let's try Linear SVC\n",
        "from sklearn.svm import LinearSVC\n",
        "\n",
        "# Setup random seed\n",
        "np.random.seed(42)\n",
        "\n",
        "# Split into X/y\n",
        "X = heart_disease.drop(\"target\", axis=1)\n",
        "y = heart_disease[\"target\"]\n",
        "\n",
        "# Split into training and test sets\n",
        "X_train, X_test, y_train, y_test = train_test_split(X, y, test_size=0.2)\n",
        "\n",
        "# Instantiate LinearSVC model\n",
        "clf = LinearSVC(dual=False)\n",
        "clf.fit(X_train, y_train)\n",
        "\n",
        "# Evaluate Score\n",
        "clf.score(X_test, y_test)"
      ],
      "execution_count": 47,
      "outputs": [
        {
          "output_type": "execute_result",
          "data": {
            "text/plain": [
              "0.8688524590163934"
            ]
          },
          "metadata": {
            "tags": []
          },
          "execution_count": 47
        }
      ]
    },
    {
      "cell_type": "code",
      "metadata": {
        "colab": {
          "base_uri": "https://localhost:8080/"
        },
        "id": "XeAdNePaa3s8",
        "outputId": "bd301a4a-e4b2-4f13-98d2-f9eebc08b3b3"
      },
      "source": [
        "# Let's try RandomForestClassifier\n",
        "from sklearn.ensemble import RandomForestClassifier\n",
        "\n",
        "# Setup random seed\n",
        "np.random.seed(42)\n",
        "\n",
        "# Split into X/y\n",
        "X = heart_disease.drop(\"target\", axis=1)\n",
        "y = heart_disease[\"target\"]\n",
        "\n",
        "# Split into training and test sets\n",
        "X_train, X_test, y_train, y_test = train_test_split(X, y, test_size=0.2)\n",
        "\n",
        "# Instantiate RandomForestClassifier model\n",
        "clf = RandomForestClassifier()\n",
        "clf.fit(X_train, y_train)\n",
        "\n",
        "# Evaluate Score\n",
        "clf.score(X_test, y_test)"
      ],
      "execution_count": 48,
      "outputs": [
        {
          "output_type": "execute_result",
          "data": {
            "text/plain": [
              "0.8524590163934426"
            ]
          },
          "metadata": {
            "tags": []
          },
          "execution_count": 48
        }
      ]
    },
    {
      "cell_type": "markdown",
      "metadata": {
        "id": "CihMpBNnASv0"
      },
      "source": [
        "---"
      ]
    },
    {
      "cell_type": "markdown",
      "metadata": {
        "id": "-jb1t_JHAT8V"
      },
      "source": [
        "## 3. Fit a model to make predictions"
      ]
    },
    {
      "cell_type": "markdown",
      "metadata": {
        "id": "_7S5R93WBvAG"
      },
      "source": [
        "#### 3.1 Fitting the model to data\n",
        "\n",
        "\n",
        "Different names for:\n",
        "\n",
        "`X` = features, feature variables, data\n",
        "\n",
        "`y` = labels, targets, target variables"
      ]
    },
    {
      "cell_type": "markdown",
      "metadata": {
        "id": "utUntVotCjSH"
      },
      "source": [
        "`fit` function is used for this purpose.\n",
        "\n",
        "We generally use training dataset as the arguments for this function.\n",
        "\n",
        "What this function does is, it goes to training dataset of `X` and goes through every row and checks the corresponding `y` value so that it can figure out a pattern created by combination of different columnuar values which led to that result. It does so to later predict the `y` value of a new sample."
      ]
    },
    {
      "cell_type": "markdown",
      "metadata": {
        "id": "ztvYGWhYEklv"
      },
      "source": [
        "#### 3.2 Make predictions using a model"
      ]
    },
    {
      "cell_type": "markdown",
      "metadata": {
        "id": "wKtlvt00EpuL"
      },
      "source": [
        "Two different ways of making predictions:\n",
        "\n",
        "1. `predict()`\n",
        "2. `predict_proba()`"
      ]
    },
    {
      "cell_type": "markdown",
      "metadata": {
        "id": "1KtN6gO0UpGa"
      },
      "source": [
        "Make Predictions using `predict()`"
      ]
    },
    {
      "cell_type": "code",
      "metadata": {
        "colab": {
          "base_uri": "https://localhost:8080/"
        },
        "id": "VzqfVmltEo_q",
        "outputId": "40a9dd1f-4213-49c6-d2da-793786bb0aab"
      },
      "source": [
        "# predict()\n",
        "clf.predict(X_test)"
      ],
      "execution_count": 49,
      "outputs": [
        {
          "output_type": "execute_result",
          "data": {
            "text/plain": [
              "array([0, 1, 1, 0, 1, 1, 1, 0, 0, 1, 1, 0, 1, 0, 1, 1, 1, 0, 0, 0, 0, 0,\n",
              "       1, 1, 1, 1, 1, 1, 0, 1, 0, 0, 0, 0, 1, 0, 1, 1, 1, 1, 1, 1, 1, 1,\n",
              "       1, 0, 1, 1, 0, 0, 0, 0, 1, 1, 0, 0, 0, 1, 0, 0, 0])"
            ]
          },
          "metadata": {
            "tags": []
          },
          "execution_count": 49
        }
      ]
    },
    {
      "cell_type": "code",
      "metadata": {
        "colab": {
          "base_uri": "https://localhost:8080/"
        },
        "id": "Q2aqnZAjTogv",
        "outputId": "9a0ba1bd-b3ba-465c-bc86-70ae985a5091"
      },
      "source": [
        "np.array(y_test)"
      ],
      "execution_count": 50,
      "outputs": [
        {
          "output_type": "execute_result",
          "data": {
            "text/plain": [
              "array([0, 0, 1, 0, 1, 1, 1, 0, 0, 1, 1, 1, 1, 0, 1, 1, 1, 0, 0, 0, 1, 0,\n",
              "       0, 1, 1, 0, 0, 1, 0, 1, 1, 0, 0, 1, 1, 0, 1, 1, 1, 1, 1, 1, 1, 1,\n",
              "       1, 0, 0, 1, 0, 0, 0, 0, 1, 1, 0, 0, 0, 1, 0, 0, 0])"
            ]
          },
          "metadata": {
            "tags": []
          },
          "execution_count": 50
        }
      ]
    },
    {
      "cell_type": "code",
      "metadata": {
        "colab": {
          "base_uri": "https://localhost:8080/"
        },
        "id": "-NEXFjEfTqe0",
        "outputId": "c86eec62-6547-42b3-c739-18b0a3687ce9"
      },
      "source": [
        "y_preds = clf.predict(X_test)\n",
        "np.mean(y_preds == y_test)"
      ],
      "execution_count": 51,
      "outputs": [
        {
          "output_type": "execute_result",
          "data": {
            "text/plain": [
              "0.8524590163934426"
            ]
          },
          "metadata": {
            "tags": []
          },
          "execution_count": 51
        }
      ]
    },
    {
      "cell_type": "code",
      "metadata": {
        "colab": {
          "base_uri": "https://localhost:8080/"
        },
        "id": "cEPApWZ2T16l",
        "outputId": "92ca493a-eb3d-4e9f-ddb4-d8e09f1b6940"
      },
      "source": [
        "# above cell is same as,\n",
        "clf.score(X_test, y_test)"
      ],
      "execution_count": 52,
      "outputs": [
        {
          "output_type": "execute_result",
          "data": {
            "text/plain": [
              "0.8524590163934426"
            ]
          },
          "metadata": {
            "tags": []
          },
          "execution_count": 52
        }
      ]
    },
    {
      "cell_type": "code",
      "metadata": {
        "colab": {
          "base_uri": "https://localhost:8080/"
        },
        "id": "mV2NPIv7T9pE",
        "outputId": "03b076dd-d629-449b-d29a-9f30ab167958"
      },
      "source": [
        "from sklearn.metrics import accuracy_score\n",
        "accuracy_score(y_test, y_preds)"
      ],
      "execution_count": 53,
      "outputs": [
        {
          "output_type": "execute_result",
          "data": {
            "text/plain": [
              "0.8524590163934426"
            ]
          },
          "metadata": {
            "tags": []
          },
          "execution_count": 53
        }
      ]
    },
    {
      "cell_type": "markdown",
      "metadata": {
        "id": "76-ayBdmUtKn"
      },
      "source": [
        "Make predictions using `predict_proba()`"
      ]
    },
    {
      "cell_type": "code",
      "metadata": {
        "id": "wjCq0jywULUn",
        "colab": {
          "base_uri": "https://localhost:8080/"
        },
        "outputId": "068c2a16-4353-4d16-ecd9-4372faf300bd"
      },
      "source": [
        "# predict_proba() returns probabilities of a classification label\n",
        "clf.predict_proba(X_test[:5])"
      ],
      "execution_count": 54,
      "outputs": [
        {
          "output_type": "execute_result",
          "data": {
            "text/plain": [
              "array([[0.89, 0.11],\n",
              "       [0.49, 0.51],\n",
              "       [0.43, 0.57],\n",
              "       [0.84, 0.16],\n",
              "       [0.18, 0.82]])"
            ]
          },
          "metadata": {
            "tags": []
          },
          "execution_count": 54
        }
      ]
    },
    {
      "cell_type": "code",
      "metadata": {
        "colab": {
          "base_uri": "https://localhost:8080/"
        },
        "id": "5yc_qTkKanuB",
        "outputId": "1889659e-92bd-4b4d-ef93-b34b3e53c143"
      },
      "source": [
        "clf.predict(X_test[:5])"
      ],
      "execution_count": 55,
      "outputs": [
        {
          "output_type": "execute_result",
          "data": {
            "text/plain": [
              "array([0, 1, 1, 0, 1])"
            ]
          },
          "metadata": {
            "tags": []
          },
          "execution_count": 55
        }
      ]
    },
    {
      "cell_type": "markdown",
      "metadata": {
        "id": "wM5VrCjDbjBF"
      },
      "source": [
        "The difference between `predict()` and `predict_proba()` is that, `predict()` provides only a single label (either yes or no) but `predict_proba()` provides probabilities of different classification label.\n",
        "\n",
        "We force `predict()` to give just one label (yes/no) but `predict_proba()` gives both probability of something being yes and probability of something being no.\n",
        "\n",
        "In above example, the first array in `predict_proba()` says probability of no is 89% and probability of being yes is 11%. Similarly, the second arrays says probability of being no is 49% and probability of being yes is 51%.\n",
        "\n",
        "Here in second array, the difference between yes and no is just 2%. But `predict()` is forced to confidently term this as yes (as the threshold is above 50%)."
      ]
    },
    {
      "cell_type": "markdown",
      "metadata": {
        "id": "XZe7BAoAfXg8"
      },
      "source": [
        "Making predictions with `predict()` for Regression model"
      ]
    },
    {
      "cell_type": "code",
      "metadata": {
        "id": "jSvpgKlxfeeb"
      },
      "source": [
        "from sklearn.ensemble import RandomForestRegressor\n",
        "\n",
        "np.random.seed(42)\n",
        "\n",
        "X = boston_df.drop(\"target\", axis=1)\n",
        "y = boston_df[\"target\"]\n",
        "\n",
        "X_train, X_test, y_train, y_test = train_test_split(X, y, test_size=0.2)\n",
        "\n",
        "model = RandomForestRegressor()\n",
        "model.fit(X_train, y_train)\n",
        "\n",
        "y_preds = model.predict(X_test)"
      ],
      "execution_count": 56,
      "outputs": []
    },
    {
      "cell_type": "code",
      "metadata": {
        "colab": {
          "base_uri": "https://localhost:8080/"
        },
        "id": "mHzT34MHgGH8",
        "outputId": "83e035c2-e102-4f6f-dce7-8002f643010c"
      },
      "source": [
        "y_preds[:10]"
      ],
      "execution_count": 57,
      "outputs": [
        {
          "output_type": "execute_result",
          "data": {
            "text/plain": [
              "array([23.002, 30.826, 16.734, 23.467, 16.853, 21.725, 19.232, 15.239,\n",
              "       21.067, 20.738])"
            ]
          },
          "metadata": {
            "tags": []
          },
          "execution_count": 57
        }
      ]
    },
    {
      "cell_type": "code",
      "metadata": {
        "colab": {
          "base_uri": "https://localhost:8080/"
        },
        "id": "YBpNLjDogS1R",
        "outputId": "5fcb8778-3799-471c-f2f3-a994c61b25f1"
      },
      "source": [
        "np.array(y_test[:10])"
      ],
      "execution_count": 58,
      "outputs": [
        {
          "output_type": "execute_result",
          "data": {
            "text/plain": [
              "array([23.6, 32.4, 13.6, 22.8, 16.1, 20. , 17.8, 14. , 19.6, 16.8])"
            ]
          },
          "metadata": {
            "tags": []
          },
          "execution_count": 58
        }
      ]
    },
    {
      "cell_type": "code",
      "metadata": {
        "colab": {
          "base_uri": "https://localhost:8080/"
        },
        "id": "Vq3Ae7xdgpgm",
        "outputId": "a89e74f7-8cd7-402f-85cd-c16c24bad3be"
      },
      "source": [
        "# Compare prediction with actual truth\n",
        "from sklearn.metrics import mean_absolute_error\n",
        "mean_absolute_error(y_test, y_preds)"
      ],
      "execution_count": 59,
      "outputs": [
        {
          "output_type": "execute_result",
          "data": {
            "text/plain": [
              "2.1226372549019623"
            ]
          },
          "metadata": {
            "tags": []
          },
          "execution_count": 59
        }
      ]
    },
    {
      "cell_type": "markdown",
      "metadata": {
        "id": "4ezQ1jW7W8BT"
      },
      "source": [
        "---"
      ]
    },
    {
      "cell_type": "markdown",
      "metadata": {
        "id": "LT1vjf9kXB78"
      },
      "source": [
        "## 4. Evaluating a Machine Learning Model\n",
        "\n",
        "Three different ways of evaluating a sklearn model:\n",
        "\n",
        "1. Using `score` method\n",
        "2. Using `scoring` parameter\n",
        "3. Problem specific metric functions"
      ]
    },
    {
      "cell_type": "markdown",
      "metadata": {
        "id": "Qhc7yTn-X3zD"
      },
      "source": [
        "#### 4.1 Evaluating using `score` method"
      ]
    },
    {
      "cell_type": "code",
      "metadata": {
        "id": "hmUVyezzXAkv"
      },
      "source": [
        "# Let's try RandomForestClassifier\n",
        "from sklearn.ensemble import RandomForestClassifier\n",
        "\n",
        "# Setup random seed\n",
        "np.random.seed(42)\n",
        "\n",
        "# Split into X/y\n",
        "X = heart_disease.drop(\"target\", axis=1)\n",
        "y = heart_disease[\"target\"]\n",
        "\n",
        "# Split into training and test sets\n",
        "X_train, X_test, y_train, y_test = train_test_split(X, y, test_size=0.2)\n",
        "\n",
        "# Instantiate RandomForestClassifier model\n",
        "clf = RandomForestClassifier()\n",
        "clf.fit(X_train, y_train);"
      ],
      "execution_count": 60,
      "outputs": []
    },
    {
      "cell_type": "markdown",
      "metadata": {
        "id": "2CTT-glYY0qK"
      },
      "source": [
        "As this is a classification model, by default the `score` method will return the mean accuracy on the given test data and labels."
      ]
    },
    {
      "cell_type": "code",
      "metadata": {
        "colab": {
          "base_uri": "https://localhost:8080/"
        },
        "id": "b9ywQX9lYS6F",
        "outputId": "8e31ad04-2554-4be2-f168-b51c97a23acb"
      },
      "source": [
        "clf.score(X_train, y_train)"
      ],
      "execution_count": 61,
      "outputs": [
        {
          "output_type": "execute_result",
          "data": {
            "text/plain": [
              "1.0"
            ]
          },
          "metadata": {
            "tags": []
          },
          "execution_count": 61
        }
      ]
    },
    {
      "cell_type": "code",
      "metadata": {
        "colab": {
          "base_uri": "https://localhost:8080/"
        },
        "id": "SYj1Qa6JX9Xw",
        "outputId": "c1f0abc2-bb46-44e8-e787-94740fda5685"
      },
      "source": [
        "# Evaluate Score\n",
        "clf.score(X_test, y_test)"
      ],
      "execution_count": 62,
      "outputs": [
        {
          "output_type": "execute_result",
          "data": {
            "text/plain": [
              "0.8524590163934426"
            ]
          },
          "metadata": {
            "tags": []
          },
          "execution_count": 62
        }
      ]
    },
    {
      "cell_type": "markdown",
      "metadata": {
        "id": "h_lmwUX3ZnH5"
      },
      "source": [
        "But for regression models the `score` method by default returns the coefficient of determination R^2 of the prediction."
      ]
    },
    {
      "cell_type": "markdown",
      "metadata": {
        "id": "SHRN5mnva7s6"
      },
      "source": [
        "#### 4.2 Evaluating using `scoring` parameter"
      ]
    },
    {
      "cell_type": "code",
      "metadata": {
        "id": "IA1V1Xr6YKog"
      },
      "source": [
        "from sklearn.model_selection import cross_val_score\n",
        "\n",
        "from sklearn.ensemble import RandomForestClassifier\n",
        "\n",
        "np.random.seed(42)\n",
        "\n",
        "X = heart_disease.drop(\"target\", axis=1)\n",
        "y = heart_disease[\"target\"]\n",
        "\n",
        "X_train, X_test, y_train, y_test = train_test_split(X, y, test_size=0.2)\n",
        "\n",
        "clf = RandomForestClassifier(n_estimators=100)\n",
        "clf.fit(X_train, y_train);"
      ],
      "execution_count": 63,
      "outputs": []
    },
    {
      "cell_type": "code",
      "metadata": {
        "colab": {
          "base_uri": "https://localhost:8080/"
        },
        "id": "Nli2IqaLbblf",
        "outputId": "b694a1fb-ab08-488f-9782-6b95a5b695ee"
      },
      "source": [
        "clf.score(X_test, y_test)"
      ],
      "execution_count": 64,
      "outputs": [
        {
          "output_type": "execute_result",
          "data": {
            "text/plain": [
              "0.8524590163934426"
            ]
          },
          "metadata": {
            "tags": []
          },
          "execution_count": 64
        }
      ]
    },
    {
      "cell_type": "code",
      "metadata": {
        "colab": {
          "base_uri": "https://localhost:8080/"
        },
        "id": "wFBwh54Sbja_",
        "outputId": "825b45ff-bf3c-4db7-b6ad-b136a0c65bed"
      },
      "source": [
        "cross_val_score(clf, X, y, cv=5)"
      ],
      "execution_count": 65,
      "outputs": [
        {
          "output_type": "execute_result",
          "data": {
            "text/plain": [
              "array([0.81967213, 0.86885246, 0.81967213, 0.78333333, 0.76666667])"
            ]
          },
          "metadata": {
            "tags": []
          },
          "execution_count": 65
        }
      ]
    },
    {
      "cell_type": "markdown",
      "metadata": {
        "id": "VRbTZDYaebfi"
      },
      "source": [
        "What is Cross-Validation"
      ]
    },
    {
      "cell_type": "markdown",
      "metadata": {
        "id": "QFZ5NE-Jd9GO"
      },
      "source": [
        "![cross_val](https://raw.githubusercontent.com/Naimul-Islam-Siam/Practice/master/ML/Scikit-learn/img/cross_val.png)"
      ]
    },
    {
      "cell_type": "markdown",
      "metadata": {
        "id": "-HcdidMumcst"
      },
      "source": [
        "Why is Cross-Validation used:\n",
        "\n",
        "Cross-validation solves the problem of not training all the data and avoiding getting lucky scores training on a single split."
      ]
    },
    {
      "cell_type": "markdown",
      "metadata": {
        "id": "Zz62fKMplzxo"
      },
      "source": [
        "If `scoring` argument is not passed to `cross_val_score()`, by default `scoring=None` is set and default scoring parameter is used, which is **mean accuracy** for classifiers. "
      ]
    },
    {
      "cell_type": "markdown",
      "metadata": {
        "id": "gHzg6brweuce"
      },
      "source": [
        "Now, let's compare these two ways:"
      ]
    },
    {
      "cell_type": "code",
      "metadata": {
        "id": "u_a8UgfobmDs",
        "colab": {
          "base_uri": "https://localhost:8080/"
        },
        "outputId": "2fdc515b-4f47-40b4-c560-dd3c1bcc7c87"
      },
      "source": [
        "np.random.seed(42)\n",
        "\n",
        "clf_single_score = clf.score(X_test, y_test)\n",
        "\n",
        "clf_cross_val_score = np.mean(cross_val_score(clf, X, y, cv=5))\n",
        "\n",
        "clf_single_score, clf_cross_val_score"
      ],
      "execution_count": 66,
      "outputs": [
        {
          "output_type": "execute_result",
          "data": {
            "text/plain": [
              "(0.8524590163934426, 0.8248087431693989)"
            ]
          },
          "metadata": {
            "tags": []
          },
          "execution_count": 66
        }
      ]
    },
    {
      "cell_type": "markdown",
      "metadata": {
        "id": "CoYtNSz1ni1b"
      },
      "source": [
        "Here, we can see that the score of cross-validation metric is lower than the non cross-validation one. But if you're asked to report the accuracy of your model, even though it's lower you prefer the cross-validation metric over the non cross-validation one."
      ]
    }
  ]
}