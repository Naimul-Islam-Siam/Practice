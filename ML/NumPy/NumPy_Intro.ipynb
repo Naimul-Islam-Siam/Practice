{
  "nbformat": 4,
  "nbformat_minor": 0,
  "metadata": {
    "colab": {
      "name": "NumPy_Intro.ipynb",
      "provenance": [],
      "collapsed_sections": []
    },
    "kernelspec": {
      "name": "python3",
      "display_name": "Python 3"
    },
    "language_info": {
      "name": "python"
    }
  },
  "cells": [
    {
      "cell_type": "code",
      "metadata": {
        "id": "kRH8ANSrOczR"
      },
      "source": [
        "import numpy as np"
      ],
      "execution_count": null,
      "outputs": []
    },
    {
      "cell_type": "markdown",
      "metadata": {
        "id": "FBOx9k1jS2fP"
      },
      "source": [
        "## 1. DataTypes and Attributes"
      ]
    },
    {
      "cell_type": "code",
      "metadata": {
        "colab": {
          "base_uri": "https://localhost:8080/"
        },
        "id": "4kYyAmlYS5mk",
        "outputId": "8596ec25-fadf-4012-b0ae-2dee200981b6"
      },
      "source": [
        "#Main data type is ndarray (n-dimension array)\n",
        "array1 = np.array([1,2,3,4,5])\n",
        "type(array1)"
      ],
      "execution_count": null,
      "outputs": [
        {
          "output_type": "execute_result",
          "data": {
            "text/plain": [
              "numpy.ndarray"
            ]
          },
          "metadata": {
            "tags": []
          },
          "execution_count": 2
        }
      ]
    },
    {
      "cell_type": "code",
      "metadata": {
        "colab": {
          "base_uri": "https://localhost:8080/"
        },
        "id": "5LwdSYmMTWLA",
        "outputId": "00b6d955-0ad7-487d-d129-4b0fb51e1784"
      },
      "source": [
        "array2 = np.array([[1,2,3], [4,5,6]])\n",
        "array2.shape"
      ],
      "execution_count": null,
      "outputs": [
        {
          "output_type": "execute_result",
          "data": {
            "text/plain": [
              "(2, 3)"
            ]
          },
          "metadata": {
            "tags": []
          },
          "execution_count": 3
        }
      ]
    },
    {
      "cell_type": "code",
      "metadata": {
        "colab": {
          "base_uri": "https://localhost:8080/"
        },
        "id": "c7B87uvQUoi5",
        "outputId": "57593784-6ff1-495e-a71c-24d0d3e61456"
      },
      "source": [
        "array3 = np.array([ [[1,2,3], [4,5,6]], [[7,8,9], [10,11,12]], [[13,14,15], [16,17,18]] ])\n",
        "array3.shape"
      ],
      "execution_count": null,
      "outputs": [
        {
          "output_type": "execute_result",
          "data": {
            "text/plain": [
              "(3, 2, 3)"
            ]
          },
          "metadata": {
            "tags": []
          },
          "execution_count": 4
        }
      ]
    },
    {
      "cell_type": "code",
      "metadata": {
        "colab": {
          "base_uri": "https://localhost:8080/"
        },
        "id": "CdMXKf6EVGES",
        "outputId": "c58b8a10-1a70-487f-b1f2-c14fd35cb4bd"
      },
      "source": [
        "array1.ndim, array2.ndim, array3.ndim #number of dimensions of different arrays"
      ],
      "execution_count": null,
      "outputs": [
        {
          "output_type": "execute_result",
          "data": {
            "text/plain": [
              "(1, 2, 3)"
            ]
          },
          "metadata": {
            "tags": []
          },
          "execution_count": 5
        }
      ]
    },
    {
      "cell_type": "code",
      "metadata": {
        "colab": {
          "base_uri": "https://localhost:8080/"
        },
        "id": "ATSp3wyRWju5",
        "outputId": "0885aec4-7ce8-4556-f108-18c700061b31"
      },
      "source": [
        "array1.size, array2.size, array3.size #number of elements in different arrays"
      ],
      "execution_count": null,
      "outputs": [
        {
          "output_type": "execute_result",
          "data": {
            "text/plain": [
              "(5, 6, 18)"
            ]
          },
          "metadata": {
            "tags": []
          },
          "execution_count": 6
        }
      ]
    },
    {
      "cell_type": "markdown",
      "metadata": {
        "id": "eRORTWImYqZ3"
      },
      "source": [
        "## 2. Creating Different kind of NumPy Arrays"
      ]
    },
    {
      "cell_type": "code",
      "metadata": {
        "colab": {
          "base_uri": "https://localhost:8080/"
        },
        "id": "4JFdUcHsYtK-",
        "outputId": "fc2cdaea-5115-4380-d68a-6ace5a0c47d2"
      },
      "source": [
        "sample_array = np.array([1,2,3])\n",
        "sample_array.dtype"
      ],
      "execution_count": null,
      "outputs": [
        {
          "output_type": "execute_result",
          "data": {
            "text/plain": [
              "dtype('int64')"
            ]
          },
          "metadata": {
            "tags": []
          },
          "execution_count": 7
        }
      ]
    },
    {
      "cell_type": "code",
      "metadata": {
        "colab": {
          "base_uri": "https://localhost:8080/"
        },
        "id": "w4aKIKO9ZQJD",
        "outputId": "cb3fcdea-0a93-4fc7-887d-beb3c15ac5f5"
      },
      "source": [
        "ones = np.ones(sample_array.shape) #replace all elements with 1\n",
        "ones"
      ],
      "execution_count": null,
      "outputs": [
        {
          "output_type": "execute_result",
          "data": {
            "text/plain": [
              "array([1., 1., 1.])"
            ]
          },
          "metadata": {
            "tags": []
          },
          "execution_count": 8
        }
      ]
    },
    {
      "cell_type": "code",
      "metadata": {
        "colab": {
          "base_uri": "https://localhost:8080/"
        },
        "id": "z9Rk8eyIaWTF",
        "outputId": "7518dcca-0109-464e-cf96-eb2b81f085f9"
      },
      "source": [
        "zeros = np.zeros((2, 3)) #replace all element with 0. (2,3) is a given shape for the new array\n",
        "zeros"
      ],
      "execution_count": null,
      "outputs": [
        {
          "output_type": "execute_result",
          "data": {
            "text/plain": [
              "array([[0., 0., 0.],\n",
              "       [0., 0., 0.]])"
            ]
          },
          "metadata": {
            "tags": []
          },
          "execution_count": 9
        }
      ]
    },
    {
      "cell_type": "code",
      "metadata": {
        "colab": {
          "base_uri": "https://localhost:8080/"
        },
        "id": "GcCY1iSRadI3",
        "outputId": "cb4cb7d6-46ef-46d7-d159-006eed4d80e7"
      },
      "source": [
        "ones.dtype, zeros.dtype #data type of ones and zeroes are float by default"
      ],
      "execution_count": null,
      "outputs": [
        {
          "output_type": "execute_result",
          "data": {
            "text/plain": [
              "(dtype('float64'), dtype('float64'))"
            ]
          },
          "metadata": {
            "tags": []
          },
          "execution_count": 10
        }
      ]
    },
    {
      "cell_type": "code",
      "metadata": {
        "colab": {
          "base_uri": "https://localhost:8080/"
        },
        "id": "6xWjYzBnak1U",
        "outputId": "38029477-8061-45ed-cb5f-bcc0a72139d7"
      },
      "source": [
        "range_array = np.arange(2, 10, 2) #parameters are: start_from, end_before, steps\n",
        "range_array"
      ],
      "execution_count": null,
      "outputs": [
        {
          "output_type": "execute_result",
          "data": {
            "text/plain": [
              "array([2, 4, 6, 8])"
            ]
          },
          "metadata": {
            "tags": []
          },
          "execution_count": 11
        }
      ]
    },
    {
      "cell_type": "code",
      "metadata": {
        "colab": {
          "base_uri": "https://localhost:8080/"
        },
        "id": "QstFPQ6Xbe5K",
        "outputId": "39fe2783-fda5-486e-92b8-66fefd799272"
      },
      "source": [
        "random_array = np.random.randint(1, 10, size=(2,3)) #parameters: lowest_number(inclusive), highest_number(exclusive: n-1), size: row, column\n",
        "random_array"
      ],
      "execution_count": null,
      "outputs": [
        {
          "output_type": "execute_result",
          "data": {
            "text/plain": [
              "array([[8, 1, 7],\n",
              "       [2, 9, 2]])"
            ]
          },
          "metadata": {
            "tags": []
          },
          "execution_count": 12
        }
      ]
    },
    {
      "cell_type": "code",
      "metadata": {
        "colab": {
          "base_uri": "https://localhost:8080/"
        },
        "id": "ZIYGYVb5cTEV",
        "outputId": "98b80991-eccb-4fc2-ca48-296e42f6296a"
      },
      "source": [
        "random_array.shape"
      ],
      "execution_count": null,
      "outputs": [
        {
          "output_type": "execute_result",
          "data": {
            "text/plain": [
              "(2, 3)"
            ]
          },
          "metadata": {
            "tags": []
          },
          "execution_count": 13
        }
      ]
    },
    {
      "cell_type": "code",
      "metadata": {
        "colab": {
          "base_uri": "https://localhost:8080/"
        },
        "id": "j9vaffiqdfeq",
        "outputId": "c2b4fb21-446e-4c8d-8399-79caf96d3c0b"
      },
      "source": [
        "random_array_2 = np.random.random((3, 4)) #only shape is passed as argument. low and high is 0.0 and 1.0 by default\n",
        "random_array_2"
      ],
      "execution_count": null,
      "outputs": [
        {
          "output_type": "execute_result",
          "data": {
            "text/plain": [
              "array([[0.75283486, 0.16664565, 0.87539328, 0.0856179 ],\n",
              "       [0.45238197, 0.29835102, 0.47792165, 0.37421478],\n",
              "       [0.80057435, 0.90026064, 0.73652633, 0.26556578]])"
            ]
          },
          "metadata": {
            "tags": []
          },
          "execution_count": 14
        }
      ]
    },
    {
      "cell_type": "code",
      "metadata": {
        "colab": {
          "base_uri": "https://localhost:8080/"
        },
        "id": "OgEmUrZRd_rw",
        "outputId": "e7bdb1e8-46b6-4b97-8d86-6a9e7c85a470"
      },
      "source": [
        "random_array_3 = np.random.rand(3, 4) #same as before\n",
        "random_array_3"
      ],
      "execution_count": null,
      "outputs": [
        {
          "output_type": "execute_result",
          "data": {
            "text/plain": [
              "array([[0.16599227, 0.51319901, 0.99643395, 0.30322081],\n",
              "       [0.90001004, 0.95441021, 0.9243208 , 0.23094684],\n",
              "       [0.56489479, 0.05294789, 0.47495197, 0.62458861]])"
            ]
          },
          "metadata": {
            "tags": []
          },
          "execution_count": 15
        }
      ]
    },
    {
      "cell_type": "code",
      "metadata": {
        "colab": {
          "base_uri": "https://localhost:8080/"
        },
        "id": "4180xgyzSs9o",
        "outputId": "d7cd4007-410e-42e7-b3c5-e68dbf785752"
      },
      "source": [
        "#Pseudo Random Number\n",
        "np.random.seed(5) #seed functions lock the numbers. So it will produce the exact same random numbers every single time\n",
        "random_array_4 = np.random.randint(1, 5, size=(2,3))\n",
        "random_array_4"
      ],
      "execution_count": null,
      "outputs": [
        {
          "output_type": "execute_result",
          "data": {
            "text/plain": [
              "array([[4, 3, 4],\n",
              "       [2, 3, 3]])"
            ]
          },
          "metadata": {
            "tags": []
          },
          "execution_count": 16
        }
      ]
    },
    {
      "cell_type": "markdown",
      "metadata": {
        "id": "abY_6Oa9CFkc"
      },
      "source": [
        "## 3. Viewing Arrays and Matrices"
      ]
    },
    {
      "cell_type": "code",
      "metadata": {
        "id": "qu_p8wDrS82_",
        "colab": {
          "base_uri": "https://localhost:8080/"
        },
        "outputId": "a1870ac7-7e5d-4ba9-9f34-e55a300d5408"
      },
      "source": [
        "# view the unique numbers of an array (numbers without repeatation)\n",
        "np.unique(random_array)"
      ],
      "execution_count": null,
      "outputs": [
        {
          "output_type": "execute_result",
          "data": {
            "text/plain": [
              "array([1, 2, 7, 8, 9])"
            ]
          },
          "metadata": {
            "tags": []
          },
          "execution_count": 17
        }
      ]
    },
    {
      "cell_type": "code",
      "metadata": {
        "colab": {
          "base_uri": "https://localhost:8080/"
        },
        "id": "3_M23AaOEmSE",
        "outputId": "fb4cedcb-3738-43c7-c295-a321dacf0377"
      },
      "source": [
        "array2[0][0]"
      ],
      "execution_count": null,
      "outputs": [
        {
          "output_type": "execute_result",
          "data": {
            "text/plain": [
              "1"
            ]
          },
          "metadata": {
            "tags": []
          },
          "execution_count": 18
        }
      ]
    },
    {
      "cell_type": "markdown",
      "metadata": {
        "id": "4aYuwbB5GTDB"
      },
      "source": [
        "## 4. Manipulating and Comparing Arrays"
      ]
    },
    {
      "cell_type": "code",
      "metadata": {
        "colab": {
          "base_uri": "https://localhost:8080/"
        },
        "id": "uwVsNRl-GYVC",
        "outputId": "9b017b4b-485a-45d4-ebcb-788bd0cedadf"
      },
      "source": [
        "new_ones = np.ones(array1.shape)\n",
        "new_ones"
      ],
      "execution_count": null,
      "outputs": [
        {
          "output_type": "execute_result",
          "data": {
            "text/plain": [
              "array([1., 1., 1., 1., 1.])"
            ]
          },
          "metadata": {
            "tags": []
          },
          "execution_count": 21
        }
      ]
    },
    {
      "cell_type": "code",
      "metadata": {
        "colab": {
          "base_uri": "https://localhost:8080/"
        },
        "id": "WY5hUSCaGcYJ",
        "outputId": "80dc95f8-d5f7-4893-e75a-67cbf105310a"
      },
      "source": [
        "array1 + new_ones"
      ],
      "execution_count": null,
      "outputs": [
        {
          "output_type": "execute_result",
          "data": {
            "text/plain": [
              "array([2., 3., 4., 5., 6.])"
            ]
          },
          "metadata": {
            "tags": []
          },
          "execution_count": 22
        }
      ]
    },
    {
      "cell_type": "code",
      "metadata": {
        "colab": {
          "base_uri": "https://localhost:8080/"
        },
        "id": "3d1fSYrDGqwi",
        "outputId": "5b11368f-6b4f-4afb-ed8a-b6d50b6cf2ee"
      },
      "source": [
        "array1 * new_ones"
      ],
      "execution_count": null,
      "outputs": [
        {
          "output_type": "execute_result",
          "data": {
            "text/plain": [
              "array([1., 2., 3., 4., 5.])"
            ]
          },
          "metadata": {
            "tags": []
          },
          "execution_count": 23
        }
      ]
    },
    {
      "cell_type": "code",
      "metadata": {
        "colab": {
          "base_uri": "https://localhost:8080/"
        },
        "id": "RMpXpLICGxlk",
        "outputId": "d609711a-c6d5-4cab-abe8-432dbc9ed739"
      },
      "source": [
        "new_ones / array1"
      ],
      "execution_count": null,
      "outputs": [
        {
          "output_type": "execute_result",
          "data": {
            "text/plain": [
              "array([1.        , 0.5       , 0.33333333, 0.25      , 0.2       ])"
            ]
          },
          "metadata": {
            "tags": []
          },
          "execution_count": 26
        }
      ]
    },
    {
      "cell_type": "code",
      "metadata": {
        "colab": {
          "base_uri": "https://localhost:8080/"
        },
        "id": "WsAWRjOqIY6D",
        "outputId": "7f4d9b0c-a295-4a91-dc6c-30c0a0f335b6"
      },
      "source": [
        "new_ones // array1 #this will divide and floor the result values"
      ],
      "execution_count": null,
      "outputs": [
        {
          "output_type": "execute_result",
          "data": {
            "text/plain": [
              "array([1., 0., 0., 0., 0.])"
            ]
          },
          "metadata": {
            "tags": []
          },
          "execution_count": 27
        }
      ]
    },
    {
      "cell_type": "code",
      "metadata": {
        "colab": {
          "base_uri": "https://localhost:8080/"
        },
        "id": "CTEBm4ZTIbuS",
        "outputId": "28df1944-b067-4fde-c2d8-1265684e8572"
      },
      "source": [
        "array1 % 2 #remainder"
      ],
      "execution_count": null,
      "outputs": [
        {
          "output_type": "execute_result",
          "data": {
            "text/plain": [
              "array([1, 0, 1, 0, 1])"
            ]
          },
          "metadata": {
            "tags": []
          },
          "execution_count": 28
        }
      ]
    },
    {
      "cell_type": "code",
      "metadata": {
        "colab": {
          "base_uri": "https://localhost:8080/"
        },
        "id": "f7lat4sFIiI9",
        "outputId": "913d52ab-fec6-4cd6-9e52-42b7684ce909"
      },
      "source": [
        "np.exp(array1) #exponential"
      ],
      "execution_count": null,
      "outputs": [
        {
          "output_type": "execute_result",
          "data": {
            "text/plain": [
              "array([  2.71828183,   7.3890561 ,  20.08553692,  54.59815003,\n",
              "       148.4131591 ])"
            ]
          },
          "metadata": {
            "tags": []
          },
          "execution_count": 29
        }
      ]
    },
    {
      "cell_type": "code",
      "metadata": {
        "colab": {
          "base_uri": "https://localhost:8080/"
        },
        "id": "h5ki0tG3I3ps",
        "outputId": "059b040c-33ef-4174-9e7f-d3df4598fc7b"
      },
      "source": [
        "np.log(array1) #log"
      ],
      "execution_count": null,
      "outputs": [
        {
          "output_type": "execute_result",
          "data": {
            "text/plain": [
              "array([0.        , 0.69314718, 1.09861229, 1.38629436, 1.60943791])"
            ]
          },
          "metadata": {
            "tags": []
          },
          "execution_count": 30
        }
      ]
    },
    {
      "cell_type": "markdown",
      "metadata": {
        "id": "8lqXUdeML_pb"
      },
      "source": [
        "### Aggregation"
      ]
    },
    {
      "cell_type": "code",
      "metadata": {
        "colab": {
          "base_uri": "https://localhost:8080/"
        },
        "id": "t4L9_yd9KfC5",
        "outputId": "aedcbca7-3dd1-4a3f-c40c-4190e5ce0411"
      },
      "source": [
        "massive_array = np.random.random(100000)\n",
        "massive_array[:10]"
      ],
      "execution_count": null,
      "outputs": [
        {
          "output_type": "execute_result",
          "data": {
            "text/plain": [
              "array([0.079009  , 0.39194377, 0.15755857, 0.70075838, 0.56362203,\n",
              "       0.58579052, 0.27922046, 0.23152333, 0.46519497, 0.59638052])"
            ]
          },
          "metadata": {
            "tags": []
          },
          "execution_count": 38
        }
      ]
    },
    {
      "cell_type": "markdown",
      "metadata": {
        "id": "IcCJDR9tLO0k"
      },
      "source": [
        "Use NumPy Methods on NumPy Arrays and Python Methods on Python Arrays."
      ]
    },
    {
      "cell_type": "code",
      "metadata": {
        "colab": {
          "base_uri": "https://localhost:8080/"
        },
        "id": "-k67AeQyKnAu",
        "outputId": "dc581c47-f426-4e14-8eff-9332983b9c5b"
      },
      "source": [
        "# Python Method to calculate Sum\n",
        "%timeit sum(massive_array)"
      ],
      "execution_count": null,
      "outputs": [
        {
          "output_type": "stream",
          "text": [
            "100 loops, best of 5: 17 ms per loop\n"
          ],
          "name": "stdout"
        }
      ]
    },
    {
      "cell_type": "code",
      "metadata": {
        "colab": {
          "base_uri": "https://localhost:8080/"
        },
        "id": "8PSd5XvTK1lT",
        "outputId": "fa71fd65-f3b7-4639-b26d-c9198b71d65d"
      },
      "source": [
        "# NumPy Method to calculate Sum\n",
        "%timeit np.sum(massive_array) #425 times faster in this case than the Python Sum"
      ],
      "execution_count": null,
      "outputs": [
        {
          "output_type": "stream",
          "text": [
            "The slowest run took 6.29 times longer than the fastest. This could mean that an intermediate result is being cached.\n",
            "10000 loops, best of 5: 40 µs per loop\n"
          ],
          "name": "stdout"
        }
      ]
    },
    {
      "cell_type": "code",
      "metadata": {
        "colab": {
          "base_uri": "https://localhost:8080/"
        },
        "id": "z2hVatPoLbUp",
        "outputId": "76bf5018-6e85-4078-f103-9b4d2b08faa2"
      },
      "source": [
        "np.mean(massive_array)"
      ],
      "execution_count": null,
      "outputs": [
        {
          "output_type": "execute_result",
          "data": {
            "text/plain": [
              "0.500835229291351"
            ]
          },
          "metadata": {
            "tags": []
          },
          "execution_count": 39
        }
      ]
    },
    {
      "cell_type": "code",
      "metadata": {
        "colab": {
          "base_uri": "https://localhost:8080/"
        },
        "id": "v13KtoY3Mi-I",
        "outputId": "02121adf-4767-42c6-a5d9-9d5239e1e869"
      },
      "source": [
        "# Standart Deviation\n",
        "# Measure of how spread out a group of numbers is from the mean\n",
        "# Sqrt of variance\n",
        "np.std(massive_array)"
      ],
      "execution_count": null,
      "outputs": [
        {
          "output_type": "execute_result",
          "data": {
            "text/plain": [
              "0.288372633667325"
            ]
          },
          "metadata": {
            "tags": []
          },
          "execution_count": 40
        }
      ]
    },
    {
      "cell_type": "code",
      "metadata": {
        "colab": {
          "base_uri": "https://localhost:8080/"
        },
        "id": "afpW5maxMmMY",
        "outputId": "4aa1dda3-bd31-45d9-f39c-8462ea6650cc"
      },
      "source": [
        "# Variance\n",
        "# Measure of the average degree to which each number is different to the mean\n",
        "# Higher variance means wider range of numbers\n",
        "# Lower variance means lower range of numbers\n",
        "np.var(massive_array)"
      ],
      "execution_count": null,
      "outputs": [
        {
          "output_type": "execute_result",
          "data": {
            "text/plain": [
              "0.08315877584822923"
            ]
          },
          "metadata": {
            "tags": []
          },
          "execution_count": 42
        }
      ]
    },
    {
      "cell_type": "code",
      "metadata": {
        "id": "3VG3L525lcJF"
      },
      "source": [
        "high_var_array = np.array([10, 100, 200, 2000, 4000])\n",
        "low_var_array = np.array([2,4,6,8,10])"
      ],
      "execution_count": null,
      "outputs": []
    },
    {
      "cell_type": "code",
      "metadata": {
        "colab": {
          "base_uri": "https://localhost:8080/"
        },
        "id": "HHJ25g2wlrFq",
        "outputId": "eddc8cef-572f-4921-ac63-0f5b0502c9a1"
      },
      "source": [
        "np.var(high_var_array), np.var(low_var_array)"
      ],
      "execution_count": null,
      "outputs": [
        {
          "output_type": "execute_result",
          "data": {
            "text/plain": [
              "(2417376.0, 8.0)"
            ]
          },
          "metadata": {
            "tags": []
          },
          "execution_count": 44
        }
      ]
    },
    {
      "cell_type": "code",
      "metadata": {
        "colab": {
          "base_uri": "https://localhost:8080/"
        },
        "id": "3rVaZMWdlukH",
        "outputId": "77e67329-85f1-43bf-bf2f-41a72e2e0df9"
      },
      "source": [
        "np.std(high_var_array), np.std(low_var_array)"
      ],
      "execution_count": null,
      "outputs": [
        {
          "output_type": "execute_result",
          "data": {
            "text/plain": [
              "(1554.7913043235096, 2.8284271247461903)"
            ]
          },
          "metadata": {
            "tags": []
          },
          "execution_count": 45
        }
      ]
    },
    {
      "cell_type": "code",
      "metadata": {
        "colab": {
          "base_uri": "https://localhost:8080/"
        },
        "id": "hmIUfw_8lzVk",
        "outputId": "195b24b7-f047-457f-a9c8-3be0362c62cc"
      },
      "source": [
        "np.mean(high_var_array), np.mean(low_var_array)"
      ],
      "execution_count": null,
      "outputs": [
        {
          "output_type": "execute_result",
          "data": {
            "text/plain": [
              "(1262.0, 6.0)"
            ]
          },
          "metadata": {
            "tags": []
          },
          "execution_count": 46
        }
      ]
    },
    {
      "cell_type": "code",
      "metadata": {
        "id": "j0OLshwfl5Yl"
      },
      "source": [
        "import matplotlib.pyplot as plt"
      ],
      "execution_count": null,
      "outputs": []
    },
    {
      "cell_type": "code",
      "metadata": {
        "colab": {
          "base_uri": "https://localhost:8080/",
          "height": 265
        },
        "id": "s8c0vjL9mUr_",
        "outputId": "95b4b675-9891-42c1-a667-15fa5b0dc1ae"
      },
      "source": [
        "plt.hist(high_var_array)\n",
        "plt.show()"
      ],
      "execution_count": null,
      "outputs": [
        {
          "output_type": "display_data",
          "data": {
            "image/png": "[encoded data removed]",
            "text/plain": [
              "<Figure size 432x288 with 1 Axes>"
            ]
          },
          "metadata": {
            "tags": [],
            "needs_background": "light"
          }
        }
      ]
    },
    {
      "cell_type": "code",
      "metadata": {
        "colab": {
          "base_uri": "https://localhost:8080/",
          "height": 265
        },
        "id": "NjkLICB-mdj3",
        "outputId": "6c13cd3e-303b-47a8-e962-7419b5ef458e"
      },
      "source": [
        "plt.hist(low_var_array)\n",
        "plt.show()"
      ],
      "execution_count": null,
      "outputs": [
        {
          "output_type": "display_data",
          "data": {
            "image/png": "[encoded data removed]",
            "text/plain": [
              "<Figure size 432x288 with 1 Axes>"
            ]
          },
          "metadata": {
            "tags": [],
            "needs_background": "light"
          }
        }
      ]
    },
    {
      "cell_type": "markdown",
      "metadata": {
        "id": "EIUmpmm0TSA2"
      },
      "source": [
        "## 6. Images into NumPy Arrays"
      ]
    },
    {
      "cell_type": "code",
      "metadata": {
        "id": "qrmMmcDATWXA"
      },
      "source": [
        "from matplotlib.image import imread\n",
        "import matplotlib.pyplot as plt"
      ],
      "execution_count": 12,
      "outputs": []
    },
    {
      "cell_type": "code",
      "metadata": {
        "colab": {
          "base_uri": "https://localhost:8080/"
        },
        "id": "N8h-OnZaTlSQ",
        "outputId": "5364f78d-3413-4c73-c91c-7338a5044358"
      },
      "source": [
        "image1 = imread(\"./img/img1.jpg\")\n",
        "type(image1)"
      ],
      "execution_count": 3,
      "outputs": [
        {
          "output_type": "execute_result",
          "data": {
            "text/plain": [
              "numpy.ndarray"
            ]
          },
          "metadata": {
            "tags": []
          },
          "execution_count": 3
        }
      ]
    },
    {
      "cell_type": "code",
      "metadata": {
        "colab": {
          "base_uri": "https://localhost:8080/",
          "height": 209
        },
        "id": "npdF2xZ-WKtk",
        "outputId": "2376ca79-2c91-4ca4-b922-b5e804b30d5c"
      },
      "source": [
        "plt.imshow(image1)"
      ],
      "execution_count": 13,
      "outputs": [
        {
          "output_type": "execute_result",
          "data": {
            "text/plain": [
              "<matplotlib.image.AxesImage at 0x7feec49c8110>"
            ]
          },
          "metadata": {
            "tags": []
          },
          "execution_count": 13
        },
        {
          "output_type": "display_data",
          "data": {
            "image/png": "[encoded data removed]",
            "text/plain": [
              "<Figure size 432x288 with 1 Axes>"
            ]
          },
          "metadata": {
            "tags": [],
            "needs_background": "light"
          }
        }
      ]
    },
    {
      "cell_type": "code",
      "metadata": {
        "colab": {
          "base_uri": "https://localhost:8080/"
        },
        "id": "E5fB6IYMU5Ut",
        "outputId": "9af3df54-c610-4b74-c387-34cc108ba3d0"
      },
      "source": [
        "image1[:1]"
      ],
      "execution_count": 10,
      "outputs": [
        {
          "output_type": "execute_result",
          "data": {
            "text/plain": [
              "array([[[  3, 155, 231],\n",
              "        [  3, 156, 232],\n",
              "        [  4, 157, 233],\n",
              "        ...,\n",
              "        [  3, 138, 228],\n",
              "        [  4, 139, 229],\n",
              "        [  4, 139, 229]]], dtype=uint8)"
            ]
          },
          "metadata": {
            "tags": []
          },
          "execution_count": 10
        }
      ]
    },
    {
      "cell_type": "code",
      "metadata": {
        "colab": {
          "base_uri": "https://localhost:8080/"
        },
        "id": "VJUYhG4AT8_A",
        "outputId": "9d0081da-2012-4ebe-8bf5-64125a0d27bb"
      },
      "source": [
        "image1.size, image1.shape, image1.ndim"
      ],
      "execution_count": 8,
      "outputs": [
        {
          "output_type": "execute_result",
          "data": {
            "text/plain": [
              "(1332288, (432, 1028, 3), 3)"
            ]
          },
          "metadata": {
            "tags": []
          },
          "execution_count": 8
        }
      ]
    }
  ]
}