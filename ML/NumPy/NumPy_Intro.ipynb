{
  "nbformat": 4,
  "nbformat_minor": 0,
  "metadata": {
    "colab": {
      "name": "NumPy_Intro.ipynb",
      "provenance": [],
      "collapsed_sections": []
    },
    "kernelspec": {
      "name": "python3",
      "display_name": "Python 3"
    },
    "language_info": {
      "name": "python"
    }
  },
  "cells": [
    {
      "cell_type": "code",
      "metadata": {
        "id": "kRH8ANSrOczR"
      },
      "source": [
        "import numpy as np"
      ],
      "execution_count": 1,
      "outputs": []
    },
    {
      "cell_type": "markdown",
      "metadata": {
        "id": "FBOx9k1jS2fP"
      },
      "source": [
        "## 1. DataTypes and Attributes"
      ]
    },
    {
      "cell_type": "code",
      "metadata": {
        "colab": {
          "base_uri": "https://localhost:8080/"
        },
        "id": "4kYyAmlYS5mk",
        "outputId": "618e43fe-2251-4b6e-8f51-4962efd4cdde"
      },
      "source": [
        "#Main data type is ndarray (n-dimension array)\n",
        "array1 = np.array([1,2,3,4,5])\n",
        "type(array1)"
      ],
      "execution_count": 2,
      "outputs": [
        {
          "output_type": "execute_result",
          "data": {
            "text/plain": [
              "numpy.ndarray"
            ]
          },
          "metadata": {
            "tags": []
          },
          "execution_count": 2
        }
      ]
    },
    {
      "cell_type": "code",
      "metadata": {
        "colab": {
          "base_uri": "https://localhost:8080/"
        },
        "id": "5LwdSYmMTWLA",
        "outputId": "87945aab-657a-448f-b425-338171193dc1"
      },
      "source": [
        "array2 = np.array([[1,2,3], [4,5,6]])\n",
        "array2.shape"
      ],
      "execution_count": 3,
      "outputs": [
        {
          "output_type": "execute_result",
          "data": {
            "text/plain": [
              "(2, 3)"
            ]
          },
          "metadata": {
            "tags": []
          },
          "execution_count": 3
        }
      ]
    },
    {
      "cell_type": "code",
      "metadata": {
        "colab": {
          "base_uri": "https://localhost:8080/"
        },
        "id": "c7B87uvQUoi5",
        "outputId": "5ede0102-54c2-40f0-e57d-5032c5ef3bf5"
      },
      "source": [
        "array3 = np.array([ [[1,2,3], [4,5,6]], [[7,8,9], [10,11,12]], [[13,14,15], [16,17,18]] ])\n",
        "array3.shape"
      ],
      "execution_count": 4,
      "outputs": [
        {
          "output_type": "execute_result",
          "data": {
            "text/plain": [
              "(3, 2, 3)"
            ]
          },
          "metadata": {
            "tags": []
          },
          "execution_count": 4
        }
      ]
    },
    {
      "cell_type": "code",
      "metadata": {
        "colab": {
          "base_uri": "https://localhost:8080/"
        },
        "id": "CdMXKf6EVGES",
        "outputId": "bc514456-15aa-49e9-9843-da6b8d938c29"
      },
      "source": [
        "array1.ndim, array2.ndim, array3.ndim #number of dimensions of different arrays"
      ],
      "execution_count": 5,
      "outputs": [
        {
          "output_type": "execute_result",
          "data": {
            "text/plain": [
              "(1, 2, 3)"
            ]
          },
          "metadata": {
            "tags": []
          },
          "execution_count": 5
        }
      ]
    },
    {
      "cell_type": "code",
      "metadata": {
        "colab": {
          "base_uri": "https://localhost:8080/"
        },
        "id": "ATSp3wyRWju5",
        "outputId": "96cadd5b-5b11-4ae2-9a6c-382aa39982ec"
      },
      "source": [
        "array1.size, array2.size, array3.size #number of elements in different arrays"
      ],
      "execution_count": 6,
      "outputs": [
        {
          "output_type": "execute_result",
          "data": {
            "text/plain": [
              "(5, 6, 18)"
            ]
          },
          "metadata": {
            "tags": []
          },
          "execution_count": 6
        }
      ]
    },
    {
      "cell_type": "markdown",
      "metadata": {
        "id": "63wKiWpnXhUW"
      },
      "source": [
        "---"
      ]
    },
    {
      "cell_type": "markdown",
      "metadata": {
        "id": "eRORTWImYqZ3"
      },
      "source": [
        "## 2. Creating Different kind of NumPy Arrays"
      ]
    },
    {
      "cell_type": "code",
      "metadata": {
        "colab": {
          "base_uri": "https://localhost:8080/"
        },
        "id": "4JFdUcHsYtK-",
        "outputId": "edd78ee4-1569-4a90-fce6-5126ba59f915"
      },
      "source": [
        "sample_array = np.array([1,2,3])\n",
        "sample_array.dtype"
      ],
      "execution_count": 7,
      "outputs": [
        {
          "output_type": "execute_result",
          "data": {
            "text/plain": [
              "dtype('int64')"
            ]
          },
          "metadata": {
            "tags": []
          },
          "execution_count": 7
        }
      ]
    },
    {
      "cell_type": "code",
      "metadata": {
        "colab": {
          "base_uri": "https://localhost:8080/"
        },
        "id": "w4aKIKO9ZQJD",
        "outputId": "747b3526-4943-4f2a-98a8-82459e10bf4a"
      },
      "source": [
        "ones = np.ones(sample_array.shape) #replace all elements with 1\n",
        "ones"
      ],
      "execution_count": 8,
      "outputs": [
        {
          "output_type": "execute_result",
          "data": {
            "text/plain": [
              "array([1., 1., 1.])"
            ]
          },
          "metadata": {
            "tags": []
          },
          "execution_count": 8
        }
      ]
    },
    {
      "cell_type": "code",
      "metadata": {
        "colab": {
          "base_uri": "https://localhost:8080/"
        },
        "id": "z9Rk8eyIaWTF",
        "outputId": "16623e3a-d9fc-47cb-b062-6ec7ecc09d2f"
      },
      "source": [
        "zeros = np.zeros((2, 3)) #replace all element with 0. (2,3) is a given shape for the new array\n",
        "zeros"
      ],
      "execution_count": 9,
      "outputs": [
        {
          "output_type": "execute_result",
          "data": {
            "text/plain": [
              "array([[0., 0., 0.],\n",
              "       [0., 0., 0.]])"
            ]
          },
          "metadata": {
            "tags": []
          },
          "execution_count": 9
        }
      ]
    },
    {
      "cell_type": "code",
      "metadata": {
        "colab": {
          "base_uri": "https://localhost:8080/"
        },
        "id": "GcCY1iSRadI3",
        "outputId": "e49baced-622f-412d-f35a-124b8acc7685"
      },
      "source": [
        "ones.dtype, zeros.dtype #data type of ones and zeroes are float by default"
      ],
      "execution_count": 10,
      "outputs": [
        {
          "output_type": "execute_result",
          "data": {
            "text/plain": [
              "(dtype('float64'), dtype('float64'))"
            ]
          },
          "metadata": {
            "tags": []
          },
          "execution_count": 10
        }
      ]
    },
    {
      "cell_type": "code",
      "metadata": {
        "colab": {
          "base_uri": "https://localhost:8080/"
        },
        "id": "6xWjYzBnak1U",
        "outputId": "6021ae48-a44b-4d80-cc44-3925f9ef1f76"
      },
      "source": [
        "range_array = np.arange(2, 10, 2) #parameters are: start_from, end_before, steps\n",
        "range_array"
      ],
      "execution_count": 11,
      "outputs": [
        {
          "output_type": "execute_result",
          "data": {
            "text/plain": [
              "array([2, 4, 6, 8])"
            ]
          },
          "metadata": {
            "tags": []
          },
          "execution_count": 11
        }
      ]
    },
    {
      "cell_type": "code",
      "metadata": {
        "colab": {
          "base_uri": "https://localhost:8080/"
        },
        "id": "QstFPQ6Xbe5K",
        "outputId": "569dd5a0-fbf0-4588-f541-a163846fc45f"
      },
      "source": [
        "random_array = np.random.randint(1, 10, size=(2,3)) #parameters: lowest_number(inclusive), highest_number(exclusive: n-1), size: row, column\n",
        "random_array"
      ],
      "execution_count": 12,
      "outputs": [
        {
          "output_type": "execute_result",
          "data": {
            "text/plain": [
              "array([[8, 8, 9],\n",
              "       [4, 8, 8]])"
            ]
          },
          "metadata": {
            "tags": []
          },
          "execution_count": 12
        }
      ]
    },
    {
      "cell_type": "code",
      "metadata": {
        "colab": {
          "base_uri": "https://localhost:8080/"
        },
        "id": "ZIYGYVb5cTEV",
        "outputId": "f0194219-29a1-4670-ca53-2bcef7cfeb25"
      },
      "source": [
        "random_array.shape"
      ],
      "execution_count": 13,
      "outputs": [
        {
          "output_type": "execute_result",
          "data": {
            "text/plain": [
              "(2, 3)"
            ]
          },
          "metadata": {
            "tags": []
          },
          "execution_count": 13
        }
      ]
    },
    {
      "cell_type": "code",
      "metadata": {
        "colab": {
          "base_uri": "https://localhost:8080/"
        },
        "id": "j9vaffiqdfeq",
        "outputId": "18101012-fabf-425f-c02e-2237955b50c3"
      },
      "source": [
        "random_array_2 = np.random.random((3, 4)) #only shape is passed as argument. low and high is 0.0 and 1.0 by default\n",
        "random_array_2"
      ],
      "execution_count": 14,
      "outputs": [
        {
          "output_type": "execute_result",
          "data": {
            "text/plain": [
              "array([[0.36282116, 0.35835858, 0.41450959, 0.28951855],\n",
              "       [0.36943327, 0.88804841, 0.09378257, 0.20485463],\n",
              "       [0.93278968, 0.32770428, 0.7568323 , 0.18154187]])"
            ]
          },
          "metadata": {
            "tags": []
          },
          "execution_count": 14
        }
      ]
    },
    {
      "cell_type": "code",
      "metadata": {
        "colab": {
          "base_uri": "https://localhost:8080/"
        },
        "id": "OgEmUrZRd_rw",
        "outputId": "d87160b3-4dfe-4432-c0e7-89af7eba5408"
      },
      "source": [
        "random_array_3 = np.random.rand(3, 4) #same as before\n",
        "random_array_3"
      ],
      "execution_count": 15,
      "outputs": [
        {
          "output_type": "execute_result",
          "data": {
            "text/plain": [
              "array([[0.34747144, 0.08916317, 0.4964774 , 0.38173684],\n",
              "       [0.38732915, 0.52306961, 0.31094944, 0.46632947],\n",
              "       [0.49216799, 0.02106393, 0.71762523, 0.23515595]])"
            ]
          },
          "metadata": {
            "tags": []
          },
          "execution_count": 15
        }
      ]
    },
    {
      "cell_type": "code",
      "metadata": {
        "colab": {
          "base_uri": "https://localhost:8080/"
        },
        "id": "4180xgyzSs9o",
        "outputId": "db1a5923-11fb-49f4-e1a2-496796858402"
      },
      "source": [
        "#Pseudo Random Number\n",
        "np.random.seed(5) #seed functions lock the numbers. So it will produce the exact same random numbers every single time\n",
        "random_array_4 = np.random.randint(1, 5, size=(2,3))\n",
        "random_array_4"
      ],
      "execution_count": 16,
      "outputs": [
        {
          "output_type": "execute_result",
          "data": {
            "text/plain": [
              "array([[4, 3, 4],\n",
              "       [2, 3, 3]])"
            ]
          },
          "metadata": {
            "tags": []
          },
          "execution_count": 16
        }
      ]
    },
    {
      "cell_type": "markdown",
      "metadata": {
        "id": "q66IUT3fXj63"
      },
      "source": [
        "---"
      ]
    },
    {
      "cell_type": "markdown",
      "metadata": {
        "id": "abY_6Oa9CFkc"
      },
      "source": [
        "## 3. Viewing Arrays and Matrices"
      ]
    },
    {
      "cell_type": "code",
      "metadata": {
        "id": "qu_p8wDrS82_",
        "colab": {
          "base_uri": "https://localhost:8080/"
        },
        "outputId": "d52db61e-22b9-48e7-cc7d-b81ea0409921"
      },
      "source": [
        "# view the unique numbers of an array (numbers without repeatation)\n",
        "np.unique(random_array)"
      ],
      "execution_count": 17,
      "outputs": [
        {
          "output_type": "execute_result",
          "data": {
            "text/plain": [
              "array([4, 8, 9])"
            ]
          },
          "metadata": {
            "tags": []
          },
          "execution_count": 17
        }
      ]
    },
    {
      "cell_type": "code",
      "metadata": {
        "colab": {
          "base_uri": "https://localhost:8080/"
        },
        "id": "3_M23AaOEmSE",
        "outputId": "67080b7a-068e-4289-b77f-134e03069a06"
      },
      "source": [
        "array2[0][0]"
      ],
      "execution_count": 18,
      "outputs": [
        {
          "output_type": "execute_result",
          "data": {
            "text/plain": [
              "1"
            ]
          },
          "metadata": {
            "tags": []
          },
          "execution_count": 18
        }
      ]
    },
    {
      "cell_type": "markdown",
      "metadata": {
        "id": "blIdxTirXCo1"
      },
      "source": [
        "Usually a One-Dimensional Array is refferred to as a vector\n",
        "\n",
        "And anything more than one-dimension is called a matrix"
      ]
    },
    {
      "cell_type": "code",
      "metadata": {
        "colab": {
          "base_uri": "https://localhost:8080/"
        },
        "id": "hW0SvXXpYpRQ",
        "outputId": "aaf26364-54ec-42f4-8bdb-49dd1d0c3bfe"
      },
      "source": [
        "array3[:1, :2, :2]"
      ],
      "execution_count": 19,
      "outputs": [
        {
          "output_type": "execute_result",
          "data": {
            "text/plain": [
              "array([[[1, 2],\n",
              "        [4, 5]]])"
            ]
          },
          "metadata": {
            "tags": []
          },
          "execution_count": 19
        }
      ]
    },
    {
      "cell_type": "markdown",
      "metadata": {
        "id": "fnA3V_W6Xluu"
      },
      "source": [
        "---"
      ]
    },
    {
      "cell_type": "markdown",
      "metadata": {
        "id": "4aYuwbB5GTDB"
      },
      "source": [
        "## 4. Manipulating and Comparing Arrays"
      ]
    },
    {
      "cell_type": "code",
      "metadata": {
        "colab": {
          "base_uri": "https://localhost:8080/"
        },
        "id": "uwVsNRl-GYVC",
        "outputId": "4d064f20-b280-4c94-ce01-6ed90b2d79bb"
      },
      "source": [
        "new_ones = np.ones(array1.shape)\n",
        "new_ones"
      ],
      "execution_count": 20,
      "outputs": [
        {
          "output_type": "execute_result",
          "data": {
            "text/plain": [
              "array([1., 1., 1., 1., 1.])"
            ]
          },
          "metadata": {
            "tags": []
          },
          "execution_count": 20
        }
      ]
    },
    {
      "cell_type": "code",
      "metadata": {
        "colab": {
          "base_uri": "https://localhost:8080/"
        },
        "id": "WY5hUSCaGcYJ",
        "outputId": "4080d835-afbe-48b2-b77d-f0c5856ffd39"
      },
      "source": [
        "array1 + new_ones"
      ],
      "execution_count": 21,
      "outputs": [
        {
          "output_type": "execute_result",
          "data": {
            "text/plain": [
              "array([2., 3., 4., 5., 6.])"
            ]
          },
          "metadata": {
            "tags": []
          },
          "execution_count": 21
        }
      ]
    },
    {
      "cell_type": "code",
      "metadata": {
        "colab": {
          "base_uri": "https://localhost:8080/"
        },
        "id": "3d1fSYrDGqwi",
        "outputId": "61c66a9d-4790-48fe-da1b-db38c70b05ae"
      },
      "source": [
        "array1 * new_ones"
      ],
      "execution_count": 22,
      "outputs": [
        {
          "output_type": "execute_result",
          "data": {
            "text/plain": [
              "array([1., 2., 3., 4., 5.])"
            ]
          },
          "metadata": {
            "tags": []
          },
          "execution_count": 22
        }
      ]
    },
    {
      "cell_type": "code",
      "metadata": {
        "colab": {
          "base_uri": "https://localhost:8080/"
        },
        "id": "RMpXpLICGxlk",
        "outputId": "cdbdb537-8edf-4a18-d1a3-f1640dbadaa6"
      },
      "source": [
        "new_ones / array1"
      ],
      "execution_count": 23,
      "outputs": [
        {
          "output_type": "execute_result",
          "data": {
            "text/plain": [
              "array([1.        , 0.5       , 0.33333333, 0.25      , 0.2       ])"
            ]
          },
          "metadata": {
            "tags": []
          },
          "execution_count": 23
        }
      ]
    },
    {
      "cell_type": "code",
      "metadata": {
        "colab": {
          "base_uri": "https://localhost:8080/"
        },
        "id": "WsAWRjOqIY6D",
        "outputId": "2b93673b-899f-431f-e0d3-8c298fe0bcfc"
      },
      "source": [
        "new_ones // array1 #this will divide and floor the result values"
      ],
      "execution_count": 24,
      "outputs": [
        {
          "output_type": "execute_result",
          "data": {
            "text/plain": [
              "array([1., 0., 0., 0., 0.])"
            ]
          },
          "metadata": {
            "tags": []
          },
          "execution_count": 24
        }
      ]
    },
    {
      "cell_type": "code",
      "metadata": {
        "colab": {
          "base_uri": "https://localhost:8080/"
        },
        "id": "CTEBm4ZTIbuS",
        "outputId": "c59603f0-9c2b-4fa8-914b-08ccd099a560"
      },
      "source": [
        "array1 % 2 #remainder"
      ],
      "execution_count": 25,
      "outputs": [
        {
          "output_type": "execute_result",
          "data": {
            "text/plain": [
              "array([1, 0, 1, 0, 1])"
            ]
          },
          "metadata": {
            "tags": []
          },
          "execution_count": 25
        }
      ]
    },
    {
      "cell_type": "code",
      "metadata": {
        "colab": {
          "base_uri": "https://localhost:8080/"
        },
        "id": "f7lat4sFIiI9",
        "outputId": "ffedf58e-e9ca-4cc5-cbc1-82e2f8fd74f8"
      },
      "source": [
        "np.exp(array1) #exponential"
      ],
      "execution_count": 26,
      "outputs": [
        {
          "output_type": "execute_result",
          "data": {
            "text/plain": [
              "array([  2.71828183,   7.3890561 ,  20.08553692,  54.59815003,\n",
              "       148.4131591 ])"
            ]
          },
          "metadata": {
            "tags": []
          },
          "execution_count": 26
        }
      ]
    },
    {
      "cell_type": "code",
      "metadata": {
        "colab": {
          "base_uri": "https://localhost:8080/"
        },
        "id": "h5ki0tG3I3ps",
        "outputId": "f85959a1-774f-4c76-c184-1d1b847f894c"
      },
      "source": [
        "np.log(array1) #log"
      ],
      "execution_count": 27,
      "outputs": [
        {
          "output_type": "execute_result",
          "data": {
            "text/plain": [
              "array([0.        , 0.69314718, 1.09861229, 1.38629436, 1.60943791])"
            ]
          },
          "metadata": {
            "tags": []
          },
          "execution_count": 27
        }
      ]
    },
    {
      "cell_type": "markdown",
      "metadata": {
        "id": "8lqXUdeML_pb"
      },
      "source": [
        "### 4.1 Aggregation"
      ]
    },
    {
      "cell_type": "code",
      "metadata": {
        "colab": {
          "base_uri": "https://localhost:8080/"
        },
        "id": "t4L9_yd9KfC5",
        "outputId": "45a1bb51-30a3-4521-e9ed-ed111791343d"
      },
      "source": [
        "massive_array = np.random.random(100000)\n",
        "massive_array[:10]"
      ],
      "execution_count": 28,
      "outputs": [
        {
          "output_type": "execute_result",
          "data": {
            "text/plain": [
              "array([0.91861091, 0.48841119, 0.61174386, 0.76590786, 0.51841799,\n",
              "       0.2968005 , 0.18772123, 0.08074127, 0.7384403 , 0.44130922])"
            ]
          },
          "metadata": {
            "tags": []
          },
          "execution_count": 28
        }
      ]
    },
    {
      "cell_type": "markdown",
      "metadata": {
        "id": "IcCJDR9tLO0k"
      },
      "source": [
        "Use NumPy Methods on NumPy Arrays and Python Methods on Python Arrays."
      ]
    },
    {
      "cell_type": "code",
      "metadata": {
        "colab": {
          "base_uri": "https://localhost:8080/"
        },
        "id": "-k67AeQyKnAu",
        "outputId": "4f976c3a-ffa3-4f1a-9408-edc022d11787"
      },
      "source": [
        "# Python Method to calculate Sum\n",
        "%timeit sum(massive_array)"
      ],
      "execution_count": 29,
      "outputs": [
        {
          "output_type": "stream",
          "text": [
            "10 loops, best of 5: 16.7 ms per loop\n"
          ],
          "name": "stdout"
        }
      ]
    },
    {
      "cell_type": "code",
      "metadata": {
        "colab": {
          "base_uri": "https://localhost:8080/"
        },
        "id": "8PSd5XvTK1lT",
        "outputId": "8ec0091e-59d3-4523-8c1d-5e5609ce068b"
      },
      "source": [
        "# NumPy Method to calculate Sum\n",
        "%timeit np.sum(massive_array) #425 times faster in this case than the Python Sum"
      ],
      "execution_count": 30,
      "outputs": [
        {
          "output_type": "stream",
          "text": [
            "The slowest run took 24.52 times longer than the fastest. This could mean that an intermediate result is being cached.\n",
            "10000 loops, best of 5: 40 µs per loop\n"
          ],
          "name": "stdout"
        }
      ]
    },
    {
      "cell_type": "code",
      "metadata": {
        "colab": {
          "base_uri": "https://localhost:8080/"
        },
        "id": "z2hVatPoLbUp",
        "outputId": "ec68d66a-e468-4287-9ab7-1f70307dab3e"
      },
      "source": [
        "np.mean(massive_array)"
      ],
      "execution_count": 31,
      "outputs": [
        {
          "output_type": "execute_result",
          "data": {
            "text/plain": [
              "0.5014523100967314"
            ]
          },
          "metadata": {
            "tags": []
          },
          "execution_count": 31
        }
      ]
    },
    {
      "cell_type": "code",
      "metadata": {
        "colab": {
          "base_uri": "https://localhost:8080/"
        },
        "id": "v13KtoY3Mi-I",
        "outputId": "f42c3a3f-4368-4371-a81d-95ee2f1eb40a"
      },
      "source": [
        "# Standart Deviation\n",
        "# Measure of how spread out a group of numbers is from the mean\n",
        "# Sqrt of variance\n",
        "np.std(massive_array)"
      ],
      "execution_count": 32,
      "outputs": [
        {
          "output_type": "execute_result",
          "data": {
            "text/plain": [
              "0.28824607003850033"
            ]
          },
          "metadata": {
            "tags": []
          },
          "execution_count": 32
        }
      ]
    },
    {
      "cell_type": "code",
      "metadata": {
        "colab": {
          "base_uri": "https://localhost:8080/"
        },
        "id": "afpW5maxMmMY",
        "outputId": "e3d2f64c-7de3-438e-9c8e-ec380901a8ae"
      },
      "source": [
        "# Variance\n",
        "# Measure of the average degree to which each number is different to the mean\n",
        "# Higher variance means wider range of numbers\n",
        "# Lower variance means lower range of numbers\n",
        "np.var(massive_array)"
      ],
      "execution_count": 33,
      "outputs": [
        {
          "output_type": "execute_result",
          "data": {
            "text/plain": [
              "0.08308579689264003"
            ]
          },
          "metadata": {
            "tags": []
          },
          "execution_count": 33
        }
      ]
    },
    {
      "cell_type": "code",
      "metadata": {
        "id": "3VG3L525lcJF"
      },
      "source": [
        "high_var_array = np.array([10, 100, 200, 2000, 4000])\n",
        "low_var_array = np.array([2,4,6,8,10])"
      ],
      "execution_count": 34,
      "outputs": []
    },
    {
      "cell_type": "code",
      "metadata": {
        "colab": {
          "base_uri": "https://localhost:8080/"
        },
        "id": "HHJ25g2wlrFq",
        "outputId": "555a5f75-fb94-4714-bced-3c37f8344d4d"
      },
      "source": [
        "np.var(high_var_array), np.var(low_var_array)"
      ],
      "execution_count": 35,
      "outputs": [
        {
          "output_type": "execute_result",
          "data": {
            "text/plain": [
              "(2417376.0, 8.0)"
            ]
          },
          "metadata": {
            "tags": []
          },
          "execution_count": 35
        }
      ]
    },
    {
      "cell_type": "code",
      "metadata": {
        "colab": {
          "base_uri": "https://localhost:8080/"
        },
        "id": "3rVaZMWdlukH",
        "outputId": "f143dab0-1138-46d1-9423-e6a0c4cdbb44"
      },
      "source": [
        "np.std(high_var_array), np.std(low_var_array)"
      ],
      "execution_count": 36,
      "outputs": [
        {
          "output_type": "execute_result",
          "data": {
            "text/plain": [
              "(1554.7913043235096, 2.8284271247461903)"
            ]
          },
          "metadata": {
            "tags": []
          },
          "execution_count": 36
        }
      ]
    },
    {
      "cell_type": "code",
      "metadata": {
        "colab": {
          "base_uri": "https://localhost:8080/"
        },
        "id": "hmIUfw_8lzVk",
        "outputId": "d9fa49eb-d2c1-4365-ce96-041d1c939229"
      },
      "source": [
        "np.mean(high_var_array), np.mean(low_var_array)"
      ],
      "execution_count": 37,
      "outputs": [
        {
          "output_type": "execute_result",
          "data": {
            "text/plain": [
              "(1262.0, 6.0)"
            ]
          },
          "metadata": {
            "tags": []
          },
          "execution_count": 37
        }
      ]
    },
    {
      "cell_type": "code",
      "metadata": {
        "id": "j0OLshwfl5Yl"
      },
      "source": [
        "import matplotlib.pyplot as plt"
      ],
      "execution_count": 38,
      "outputs": []
    },
    {
      "cell_type": "code",
      "metadata": {
        "colab": {
          "base_uri": "https://localhost:8080/",
          "height": 265
        },
        "id": "s8c0vjL9mUr_",
        "outputId": "b73b5f4e-72eb-433f-efcb-7f5260df62bf"
      },
      "source": [
        "plt.hist(high_var_array)\n",
        "plt.show()"
      ],
      "execution_count": 39,
      "outputs": [
        {
          "output_type": "display_data",
          "data": {
            "image/png": "[encoded data removed]",
            "text/plain": [
              "<Figure size 432x288 with 1 Axes>"
            ]
          },
          "metadata": {
            "tags": [],
            "needs_background": "light"
          }
        }
      ]
    },
    {
      "cell_type": "code",
      "metadata": {
        "colab": {
          "base_uri": "https://localhost:8080/",
          "height": 265
        },
        "id": "NjkLICB-mdj3",
        "outputId": "f5d5fb47-f3ae-4cd0-ff28-82b111ba1312"
      },
      "source": [
        "plt.hist(low_var_array)\n",
        "plt.show()"
      ],
      "execution_count": 40,
      "outputs": [
        {
          "output_type": "display_data",
          "data": {
            "image/png": "[encoded data removed]",
            "text/plain": [
              "<Figure size 432x288 with 1 Axes>"
            ]
          },
          "metadata": {
            "tags": [],
            "needs_background": "light"
          }
        }
      ]
    },
    {
      "cell_type": "markdown",
      "metadata": {
        "id": "jky25CpvN9lp"
      },
      "source": [
        "### 4.2 Reshaping and Transpose"
      ]
    },
    {
      "cell_type": "code",
      "metadata": {
        "colab": {
          "base_uri": "https://localhost:8080/"
        },
        "id": "4GE9ZqafOCDc",
        "outputId": "0354154b-6b0f-4094-898b-86d6145180e7"
      },
      "source": [
        "array2.shape, array3.shape"
      ],
      "execution_count": 41,
      "outputs": [
        {
          "output_type": "execute_result",
          "data": {
            "text/plain": [
              "((2, 3), (3, 2, 3))"
            ]
          },
          "metadata": {
            "tags": []
          },
          "execution_count": 41
        }
      ]
    },
    {
      "cell_type": "code",
      "metadata": {
        "colab": {
          "base_uri": "https://localhost:8080/"
        },
        "id": "4xvYy-_MPby2",
        "outputId": "31fb7084-19c8-4544-ead6-d160de978a29"
      },
      "source": [
        "# reshape is used to make two arrays compatible with each other\n",
        "array2_reshape = array2.reshape(3,2,1)\n",
        "array2_reshape * array3"
      ],
      "execution_count": 42,
      "outputs": [
        {
          "output_type": "execute_result",
          "data": {
            "text/plain": [
              "array([[[  1,   2,   3],\n",
              "        [  8,  10,  12]],\n",
              "\n",
              "       [[ 21,  24,  27],\n",
              "        [ 40,  44,  48]],\n",
              "\n",
              "       [[ 65,  70,  75],\n",
              "        [ 96, 102, 108]]])"
            ]
          },
          "metadata": {
            "tags": []
          },
          "execution_count": 42
        }
      ]
    },
    {
      "cell_type": "code",
      "metadata": {
        "colab": {
          "base_uri": "https://localhost:8080/"
        },
        "id": "Rp2ofnzMQKrF",
        "outputId": "8022603f-f348-44bf-fa13-dbae6a6f00cf"
      },
      "source": [
        "array2"
      ],
      "execution_count": 43,
      "outputs": [
        {
          "output_type": "execute_result",
          "data": {
            "text/plain": [
              "array([[1, 2, 3],\n",
              "       [4, 5, 6]])"
            ]
          },
          "metadata": {
            "tags": []
          },
          "execution_count": 43
        }
      ]
    },
    {
      "cell_type": "code",
      "metadata": {
        "colab": {
          "base_uri": "https://localhost:8080/"
        },
        "id": "TcYj-LI2QivD",
        "outputId": "d16a1935-caa8-4c8d-93c4-801c3a0ec98d"
      },
      "source": [
        "# Transpose\n",
        "array2.T"
      ],
      "execution_count": 44,
      "outputs": [
        {
          "output_type": "execute_result",
          "data": {
            "text/plain": [
              "array([[1, 4],\n",
              "       [2, 5],\n",
              "       [3, 6]])"
            ]
          },
          "metadata": {
            "tags": []
          },
          "execution_count": 44
        }
      ]
    },
    {
      "cell_type": "code",
      "metadata": {
        "colab": {
          "base_uri": "https://localhost:8080/"
        },
        "id": "kM_fG0VGQmbf",
        "outputId": "e0d27026-799f-4a66-f2cd-7c7c904934f0"
      },
      "source": [
        "array2.shape, array2.T.shape"
      ],
      "execution_count": 45,
      "outputs": [
        {
          "output_type": "execute_result",
          "data": {
            "text/plain": [
              "((2, 3), (3, 2))"
            ]
          },
          "metadata": {
            "tags": []
          },
          "execution_count": 45
        }
      ]
    },
    {
      "cell_type": "markdown",
      "metadata": {
        "id": "2_LMTXg4a3Na"
      },
      "source": [
        "### 4.3 Comparing Arrays"
      ]
    },
    {
      "cell_type": "code",
      "metadata": {
        "id": "1Ep9-wGibQpp"
      },
      "source": [
        "array1_comp = np.array([1,2,3])\n",
        "array2_comp = np.array([[1,5,3], [2,3,1]])"
      ],
      "execution_count": 46,
      "outputs": []
    },
    {
      "cell_type": "code",
      "metadata": {
        "colab": {
          "base_uri": "https://localhost:8080/"
        },
        "id": "UvXPvPEUbbpt",
        "outputId": "a045db74-2381-406c-fc4d-ed79bd7d9110"
      },
      "source": [
        "array1_comp > array2_comp"
      ],
      "execution_count": 47,
      "outputs": [
        {
          "output_type": "execute_result",
          "data": {
            "text/plain": [
              "array([[False, False, False],\n",
              "       [False, False,  True]])"
            ]
          },
          "metadata": {
            "tags": []
          },
          "execution_count": 47
        }
      ]
    },
    {
      "cell_type": "code",
      "metadata": {
        "colab": {
          "base_uri": "https://localhost:8080/"
        },
        "id": "0ZKY2dOUcIDT",
        "outputId": "1296ad2c-f200-45ea-bf5c-563ebb5707ba"
      },
      "source": [
        "bool_array = array1_comp <= array2_comp\n",
        "bool_array"
      ],
      "execution_count": 48,
      "outputs": [
        {
          "output_type": "execute_result",
          "data": {
            "text/plain": [
              "array([[ True,  True,  True],\n",
              "       [ True,  True, False]])"
            ]
          },
          "metadata": {
            "tags": []
          },
          "execution_count": 48
        }
      ]
    },
    {
      "cell_type": "code",
      "metadata": {
        "colab": {
          "base_uri": "https://localhost:8080/"
        },
        "id": "hDkVLIoFcV9l",
        "outputId": "0f48e52c-d30c-4dd1-a330-8e768ec8891c"
      },
      "source": [
        "array1_comp == array2_comp"
      ],
      "execution_count": 49,
      "outputs": [
        {
          "output_type": "execute_result",
          "data": {
            "text/plain": [
              "array([[ True, False,  True],\n",
              "       [False, False, False]])"
            ]
          },
          "metadata": {
            "tags": []
          },
          "execution_count": 49
        }
      ]
    },
    {
      "cell_type": "markdown",
      "metadata": {
        "id": "SyBeiYa7XoKO"
      },
      "source": [
        "---"
      ]
    },
    {
      "cell_type": "markdown",
      "metadata": {
        "id": "XA3J_kM7X3rf"
      },
      "source": [
        "## 5. Sorting Arrays"
      ]
    },
    {
      "cell_type": "code",
      "metadata": {
        "colab": {
          "base_uri": "https://localhost:8080/"
        },
        "id": "OJeJYMJrX7SC",
        "outputId": "9a771472-6339-4932-de96-4ae5cdc2d914"
      },
      "source": [
        "random_array = np.random.randint(10, size=(3,5))\n",
        "random_array"
      ],
      "execution_count": 50,
      "outputs": [
        {
          "output_type": "execute_result",
          "data": {
            "text/plain": [
              "array([[9, 1, 2, 8, 6],\n",
              "       [0, 8, 6, 0, 1],\n",
              "       [4, 5, 0, 3, 0]])"
            ]
          },
          "metadata": {
            "tags": []
          },
          "execution_count": 50
        }
      ]
    },
    {
      "cell_type": "code",
      "metadata": {
        "colab": {
          "base_uri": "https://localhost:8080/"
        },
        "id": "p24JxxxYYcQ5",
        "outputId": "cbb2f00d-30de-45dc-b188-9e34b6abeeb2"
      },
      "source": [
        "np.sort(random_array) #sorts the array according to value in each row"
      ],
      "execution_count": 51,
      "outputs": [
        {
          "output_type": "execute_result",
          "data": {
            "text/plain": [
              "array([[1, 2, 6, 8, 9],\n",
              "       [0, 0, 1, 6, 8],\n",
              "       [0, 0, 3, 4, 5]])"
            ]
          },
          "metadata": {
            "tags": []
          },
          "execution_count": 51
        }
      ]
    },
    {
      "cell_type": "code",
      "metadata": {
        "colab": {
          "base_uri": "https://localhost:8080/"
        },
        "id": "cMEmJh8HYnFu",
        "outputId": "cd484165-feac-4f39-e8f7-d84655d02c37"
      },
      "source": [
        "np.argsort(random_array) #sorts the array according to the which index has the lowest value in each row"
      ],
      "execution_count": 52,
      "outputs": [
        {
          "output_type": "execute_result",
          "data": {
            "text/plain": [
              "array([[1, 2, 4, 3, 0],\n",
              "       [0, 3, 4, 2, 1],\n",
              "       [2, 4, 3, 0, 1]])"
            ]
          },
          "metadata": {
            "tags": []
          },
          "execution_count": 52
        }
      ]
    },
    {
      "cell_type": "code",
      "metadata": {
        "colab": {
          "base_uri": "https://localhost:8080/"
        },
        "id": "prTrcHlDY5UR",
        "outputId": "03f11114-4dd5-4850-9c97-e8e4ad172dd6"
      },
      "source": [
        "np.argmin(random_array, axis=0) # indices having the min value from each column "
      ],
      "execution_count": 53,
      "outputs": [
        {
          "output_type": "execute_result",
          "data": {
            "text/plain": [
              "array([1, 0, 2, 1, 2])"
            ]
          },
          "metadata": {
            "tags": []
          },
          "execution_count": 53
        }
      ]
    },
    {
      "cell_type": "code",
      "metadata": {
        "colab": {
          "base_uri": "https://localhost:8080/"
        },
        "id": "6kY63T_XZTu1",
        "outputId": "cd0124d0-f618-4352-90e4-b3c41a475ae4"
      },
      "source": [
        "np.argmax(random_array, axis=1) # indices having the min value from each row"
      ],
      "execution_count": 54,
      "outputs": [
        {
          "output_type": "execute_result",
          "data": {
            "text/plain": [
              "array([0, 1, 1])"
            ]
          },
          "metadata": {
            "tags": []
          },
          "execution_count": 54
        }
      ]
    },
    {
      "cell_type": "markdown",
      "metadata": {
        "id": "EIUmpmm0TSA2"
      },
      "source": [
        "## 6. Images into NumPy Arrays"
      ]
    },
    {
      "cell_type": "code",
      "metadata": {
        "id": "qrmMmcDATWXA"
      },
      "source": [
        "from matplotlib.image import imread\n",
        "import matplotlib.pyplot as plt"
      ],
      "execution_count": 55,
      "outputs": []
    },
    {
      "cell_type": "code",
      "metadata": {
        "colab": {
          "base_uri": "https://localhost:8080/"
        },
        "id": "N8h-OnZaTlSQ",
        "outputId": "72127eb4-0aca-42c4-ba16-628448847e63"
      },
      "source": [
        "image1 = imread(\"./img/img1.jpg\")\n",
        "type(image1)"
      ],
      "execution_count": 56,
      "outputs": [
        {
          "output_type": "execute_result",
          "data": {
            "text/plain": [
              "numpy.ndarray"
            ]
          },
          "metadata": {
            "tags": []
          },
          "execution_count": 56
        }
      ]
    },
    {
      "cell_type": "code",
      "metadata": {
        "id": "npdF2xZ-WKtk",
        "colab": {
          "base_uri": "https://localhost:8080/",
          "height": 172
        },
        "outputId": "f2983b42-86e9-4ff2-b1ba-c4ee79967f91"
      },
      "source": [
        "plt.imshow(image1)\n",
        "plt.axis(\"off\");"
      ],
      "execution_count": 57,
      "outputs": [
        {
          "output_type": "display_data",
          "data": {
            "image/png": "[encoded data removed]",
            "text/plain": [
              "<Figure size 432x288 with 1 Axes>"
            ]
          },
          "metadata": {
            "tags": [],
            "needs_background": "light"
          }
        }
      ]
    },
    {
      "cell_type": "code",
      "metadata": {
        "id": "E5fB6IYMU5Ut",
        "colab": {
          "base_uri": "https://localhost:8080/"
        },
        "outputId": "cd76568a-52e4-4de1-b65f-1526bf81f739"
      },
      "source": [
        "image1[:1]"
      ],
      "execution_count": 58,
      "outputs": [
        {
          "output_type": "execute_result",
          "data": {
            "text/plain": [
              "array([[[  3, 155, 231],\n",
              "        [  3, 156, 232],\n",
              "        [  4, 157, 233],\n",
              "        ...,\n",
              "        [  3, 138, 228],\n",
              "        [  4, 139, 229],\n",
              "        [  4, 139, 229]]], dtype=uint8)"
            ]
          },
          "metadata": {
            "tags": []
          },
          "execution_count": 58
        }
      ]
    },
    {
      "cell_type": "code",
      "metadata": {
        "id": "VJUYhG4AT8_A",
        "colab": {
          "base_uri": "https://localhost:8080/"
        },
        "outputId": "3795140a-834f-46b6-f5fe-23ca6a1c519a"
      },
      "source": [
        "image1.size, image1.shape, image1.ndim"
      ],
      "execution_count": 59,
      "outputs": [
        {
          "output_type": "execute_result",
          "data": {
            "text/plain": [
              "(1332288, (432, 1028, 3), 3)"
            ]
          },
          "metadata": {
            "tags": []
          },
          "execution_count": 59
        }
      ]
    }
  ]
}