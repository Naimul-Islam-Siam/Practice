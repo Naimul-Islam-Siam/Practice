{
  "nbformat": 4,
  "nbformat_minor": 0,
  "metadata": {
    "colab": {
      "name": "NumPy_Intro.ipynb",
      "provenance": [],
      "collapsed_sections": []
    },
    "kernelspec": {
      "name": "python3",
      "display_name": "Python 3"
    },
    "language_info": {
      "name": "python"
    }
  },
  "cells": [
    {
      "cell_type": "code",
      "metadata": {
        "id": "kRH8ANSrOczR"
      },
      "source": [
        "import numpy as np"
      ],
      "execution_count": 1,
      "outputs": []
    },
    {
      "cell_type": "markdown",
      "metadata": {
        "id": "FBOx9k1jS2fP"
      },
      "source": [
        "## 1. DataTypes and Attributes"
      ]
    },
    {
      "cell_type": "code",
      "metadata": {
        "colab": {
          "base_uri": "https://localhost:8080/"
        },
        "id": "4kYyAmlYS5mk",
        "outputId": "040085a0-2f9b-4f85-cd13-b213dee092ee"
      },
      "source": [
        "#Main data type is ndarray (n-dimension array)\n",
        "array1 = np.array([1,2,3,4,5])\n",
        "type(array1)"
      ],
      "execution_count": 4,
      "outputs": [
        {
          "output_type": "execute_result",
          "data": {
            "text/plain": [
              "numpy.ndarray"
            ]
          },
          "metadata": {
            "tags": []
          },
          "execution_count": 4
        }
      ]
    },
    {
      "cell_type": "code",
      "metadata": {
        "colab": {
          "base_uri": "https://localhost:8080/"
        },
        "id": "5LwdSYmMTWLA",
        "outputId": "522d3bb7-bc59-4a02-bcb1-771268a3b46e"
      },
      "source": [
        "array2 = np.array([[1,2,3], [4,5,6]])\n",
        "array2.shape"
      ],
      "execution_count": 6,
      "outputs": [
        {
          "output_type": "execute_result",
          "data": {
            "text/plain": [
              "(2, 3)"
            ]
          },
          "metadata": {
            "tags": []
          },
          "execution_count": 6
        }
      ]
    },
    {
      "cell_type": "code",
      "metadata": {
        "colab": {
          "base_uri": "https://localhost:8080/"
        },
        "id": "c7B87uvQUoi5",
        "outputId": "d2fbd753-97af-4f60-a2eb-17d2371ed344"
      },
      "source": [
        "array3 = np.array([ [[1,2,3], [4,5,6]], [[7,8,9], [10,11,12]], [[13,14,15], [16,17,18]] ])\n",
        "array3.shape"
      ],
      "execution_count": 13,
      "outputs": [
        {
          "output_type": "execute_result",
          "data": {
            "text/plain": [
              "(3, 2, 3)"
            ]
          },
          "metadata": {
            "tags": []
          },
          "execution_count": 13
        }
      ]
    },
    {
      "cell_type": "code",
      "metadata": {
        "colab": {
          "base_uri": "https://localhost:8080/"
        },
        "id": "CdMXKf6EVGES",
        "outputId": "17fde93d-18e9-48ae-ed9a-c54434a2769a"
      },
      "source": [
        "array1.ndim, array2.ndim, array3.ndim #number of dimensions of different arrays"
      ],
      "execution_count": 14,
      "outputs": [
        {
          "output_type": "execute_result",
          "data": {
            "text/plain": [
              "(1, 2, 3)"
            ]
          },
          "metadata": {
            "tags": []
          },
          "execution_count": 14
        }
      ]
    },
    {
      "cell_type": "code",
      "metadata": {
        "colab": {
          "base_uri": "https://localhost:8080/"
        },
        "id": "ATSp3wyRWju5",
        "outputId": "68c10ab3-9c61-40f9-806b-9486aea80c4c"
      },
      "source": [
        "array1.size, array2.size, array3.size #number of elements in different arrays"
      ],
      "execution_count": 10,
      "outputs": [
        {
          "output_type": "execute_result",
          "data": {
            "text/plain": [
              "(5, 6, 18)"
            ]
          },
          "metadata": {
            "tags": []
          },
          "execution_count": 10
        }
      ]
    },
    {
      "cell_type": "markdown",
      "metadata": {
        "id": "eRORTWImYqZ3"
      },
      "source": [
        "## 2. Creating Different kind of NumPy Arrays"
      ]
    },
    {
      "cell_type": "code",
      "metadata": {
        "colab": {
          "base_uri": "https://localhost:8080/"
        },
        "id": "4JFdUcHsYtK-",
        "outputId": "7ab2183f-1b64-4fd5-ae71-fb486619b7fe"
      },
      "source": [
        "sample_array = np.array([1,2,3])\n",
        "sample_array.dtype"
      ],
      "execution_count": 11,
      "outputs": [
        {
          "output_type": "execute_result",
          "data": {
            "text/plain": [
              "dtype('int64')"
            ]
          },
          "metadata": {
            "tags": []
          },
          "execution_count": 11
        }
      ]
    },
    {
      "cell_type": "code",
      "metadata": {
        "colab": {
          "base_uri": "https://localhost:8080/"
        },
        "id": "w4aKIKO9ZQJD",
        "outputId": "8419dee1-f1e5-47f6-a6db-14bffe469d30"
      },
      "source": [
        "ones = np.ones(sample_array.shape) #replace all elements with 1\n",
        "ones"
      ],
      "execution_count": 15,
      "outputs": [
        {
          "output_type": "execute_result",
          "data": {
            "text/plain": [
              "array([1., 1., 1.])"
            ]
          },
          "metadata": {
            "tags": []
          },
          "execution_count": 15
        }
      ]
    },
    {
      "cell_type": "code",
      "metadata": {
        "colab": {
          "base_uri": "https://localhost:8080/"
        },
        "id": "z9Rk8eyIaWTF",
        "outputId": "247971c5-2362-404e-b779-1a5e298bfa6e"
      },
      "source": [
        "zeros = np.zeros((2, 3)) #replace all element with 0. (2,3) is a given shape for the new array\n",
        "zeros"
      ],
      "execution_count": 17,
      "outputs": [
        {
          "output_type": "execute_result",
          "data": {
            "text/plain": [
              "array([[0., 0., 0.],\n",
              "       [0., 0., 0.]])"
            ]
          },
          "metadata": {
            "tags": []
          },
          "execution_count": 17
        }
      ]
    },
    {
      "cell_type": "code",
      "metadata": {
        "colab": {
          "base_uri": "https://localhost:8080/"
        },
        "id": "GcCY1iSRadI3",
        "outputId": "7d25f11b-1589-4194-a8ba-8a4f7ab3bde3"
      },
      "source": [
        "ones.dtype, zeros.dtype #data type of ones and zeroes are float by default"
      ],
      "execution_count": 18,
      "outputs": [
        {
          "output_type": "execute_result",
          "data": {
            "text/plain": [
              "(dtype('float64'), dtype('float64'))"
            ]
          },
          "metadata": {
            "tags": []
          },
          "execution_count": 18
        }
      ]
    },
    {
      "cell_type": "code",
      "metadata": {
        "colab": {
          "base_uri": "https://localhost:8080/"
        },
        "id": "6xWjYzBnak1U",
        "outputId": "a464d2ba-fdd5-4edc-ef4f-bfeb8e0bb441"
      },
      "source": [
        "range_array = np.arange(2, 10, 2) #parameters are: start_from, end_before, steps\n",
        "range_array"
      ],
      "execution_count": 20,
      "outputs": [
        {
          "output_type": "execute_result",
          "data": {
            "text/plain": [
              "array([2, 4, 6, 8])"
            ]
          },
          "metadata": {
            "tags": []
          },
          "execution_count": 20
        }
      ]
    },
    {
      "cell_type": "code",
      "metadata": {
        "colab": {
          "base_uri": "https://localhost:8080/"
        },
        "id": "QstFPQ6Xbe5K",
        "outputId": "94a0142a-752e-4bda-9c60-c3bb5fc6b055"
      },
      "source": [
        "random_array = np.random.randint(1, 10, size=(2,3)) #parameters: lowest_number(inclusive), highest_number(exclusive: n-1), size: row, column\n",
        "random_array"
      ],
      "execution_count": 21,
      "outputs": [
        {
          "output_type": "execute_result",
          "data": {
            "text/plain": [
              "array([[1, 8, 1],\n",
              "       [4, 1, 6]])"
            ]
          },
          "metadata": {
            "tags": []
          },
          "execution_count": 21
        }
      ]
    },
    {
      "cell_type": "code",
      "metadata": {
        "colab": {
          "base_uri": "https://localhost:8080/"
        },
        "id": "ZIYGYVb5cTEV",
        "outputId": "747500d2-ad08-4edd-d69d-258218aca604"
      },
      "source": [
        "random_array.shape"
      ],
      "execution_count": 22,
      "outputs": [
        {
          "output_type": "execute_result",
          "data": {
            "text/plain": [
              "(2, 3)"
            ]
          },
          "metadata": {
            "tags": []
          },
          "execution_count": 22
        }
      ]
    },
    {
      "cell_type": "code",
      "metadata": {
        "colab": {
          "base_uri": "https://localhost:8080/"
        },
        "id": "j9vaffiqdfeq",
        "outputId": "9523be48-748e-43bd-cd07-9a10f9f44859"
      },
      "source": [
        "random_array_2 = np.random.random((3, 4)) #only shape is passed as argument. low and high is 0.0 and 1.0 by default\n",
        "random_array_2"
      ],
      "execution_count": 23,
      "outputs": [
        {
          "output_type": "execute_result",
          "data": {
            "text/plain": [
              "array([[0.04815607, 0.29868555, 0.91814461, 0.20650593],\n",
              "       [0.91627413, 0.68904956, 0.34118079, 0.78215435],\n",
              "       [0.07959646, 0.47160716, 0.39171142, 0.1032644 ]])"
            ]
          },
          "metadata": {
            "tags": []
          },
          "execution_count": 23
        }
      ]
    },
    {
      "cell_type": "code",
      "metadata": {
        "colab": {
          "base_uri": "https://localhost:8080/"
        },
        "id": "OgEmUrZRd_rw",
        "outputId": "6a14453d-6ede-49ef-f27f-886b1a64ac3e"
      },
      "source": [
        "random_array_3 = np.random.rand(3, 4) #same as before\n",
        "random_array_3"
      ],
      "execution_count": 25,
      "outputs": [
        {
          "output_type": "execute_result",
          "data": {
            "text/plain": [
              "array([[0.31168053, 0.53504602, 0.99057386, 0.51931616],\n",
              "       [0.18281181, 0.81050135, 0.96430441, 0.57184246],\n",
              "       [0.73049102, 0.06712821, 0.78590887, 0.76388864]])"
            ]
          },
          "metadata": {
            "tags": []
          },
          "execution_count": 25
        }
      ]
    }
  ]
}